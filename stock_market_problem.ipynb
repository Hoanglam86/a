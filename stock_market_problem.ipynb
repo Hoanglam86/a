{
 "cells": [
  {
   "cell_type": "code",
   "execution_count": 65,
   "metadata": {},
   "outputs": [],
   "source": [
    "import pandas as pd\n",
    "import numpy as np\n",
    "import datetime\n",
    "import matplotlib.pyplot as plt\n",
    "import seaborn as sns\n",
    "# get_ipython().run_line_magic('matplotlib', 'inline')\n",
    "pd.options.plotting.backend = \"plotly\"\n",
    "\n"
   ]
  },
  {
   "cell_type": "code",
   "execution_count": 66,
   "metadata": {},
   "outputs": [],
   "source": [
    "start = datetime.datetime(2020,1,3)\n",
    "end = datetime.datetime(2020,9,25)"
   ]
  },
  {
   "cell_type": "markdown",
   "metadata": {},
   "source": [
    "AAPL.csv"
   ]
  },
  {
   "cell_type": "code",
   "execution_count": 67,
   "metadata": {},
   "outputs": [
    {
     "data": {
      "text/html": [
       "<div>\n",
       "<style scoped>\n",
       "    .dataframe tbody tr th:only-of-type {\n",
       "        vertical-align: middle;\n",
       "    }\n",
       "\n",
       "    .dataframe tbody tr th {\n",
       "        vertical-align: top;\n",
       "    }\n",
       "\n",
       "    .dataframe thead th {\n",
       "        text-align: right;\n",
       "    }\n",
       "</style>\n",
       "<table border=\"1\" class=\"dataframe\">\n",
       "  <thead>\n",
       "    <tr style=\"text-align: right;\">\n",
       "      <th></th>\n",
       "      <th>Date</th>\n",
       "      <th>High</th>\n",
       "      <th>Low</th>\n",
       "      <th>Open</th>\n",
       "      <th>Close</th>\n",
       "      <th>Volume</th>\n",
       "      <th>Adj Close</th>\n",
       "    </tr>\n",
       "  </thead>\n",
       "  <tbody>\n",
       "    <tr>\n",
       "      <th>3</th>\n",
       "      <td>2020-01-03</td>\n",
       "      <td>75.144997</td>\n",
       "      <td>74.125000</td>\n",
       "      <td>74.287498</td>\n",
       "      <td>74.357498</td>\n",
       "      <td>146322800</td>\n",
       "      <td>73.720840</td>\n",
       "    </tr>\n",
       "    <tr>\n",
       "      <th>4</th>\n",
       "      <td>2020-01-06</td>\n",
       "      <td>74.989998</td>\n",
       "      <td>73.187500</td>\n",
       "      <td>73.447502</td>\n",
       "      <td>74.949997</td>\n",
       "      <td>118387200</td>\n",
       "      <td>74.308266</td>\n",
       "    </tr>\n",
       "    <tr>\n",
       "      <th>5</th>\n",
       "      <td>2020-01-07</td>\n",
       "      <td>75.224998</td>\n",
       "      <td>74.370003</td>\n",
       "      <td>74.959999</td>\n",
       "      <td>74.597504</td>\n",
       "      <td>108872000</td>\n",
       "      <td>73.958794</td>\n",
       "    </tr>\n",
       "    <tr>\n",
       "      <th>6</th>\n",
       "      <td>2020-01-08</td>\n",
       "      <td>76.110001</td>\n",
       "      <td>74.290001</td>\n",
       "      <td>74.290001</td>\n",
       "      <td>75.797501</td>\n",
       "      <td>132079200</td>\n",
       "      <td>75.148521</td>\n",
       "    </tr>\n",
       "    <tr>\n",
       "      <th>7</th>\n",
       "      <td>2020-01-09</td>\n",
       "      <td>77.607498</td>\n",
       "      <td>76.550003</td>\n",
       "      <td>76.809998</td>\n",
       "      <td>77.407501</td>\n",
       "      <td>170108400</td>\n",
       "      <td>76.744728</td>\n",
       "    </tr>\n",
       "    <tr>\n",
       "      <th>...</th>\n",
       "      <td>...</td>\n",
       "      <td>...</td>\n",
       "      <td>...</td>\n",
       "      <td>...</td>\n",
       "      <td>...</td>\n",
       "      <td>...</td>\n",
       "      <td>...</td>\n",
       "    </tr>\n",
       "    <tr>\n",
       "      <th>183</th>\n",
       "      <td>2020-09-21</td>\n",
       "      <td>110.190002</td>\n",
       "      <td>103.099998</td>\n",
       "      <td>104.540001</td>\n",
       "      <td>110.080002</td>\n",
       "      <td>195713800</td>\n",
       "      <td>109.890411</td>\n",
       "    </tr>\n",
       "    <tr>\n",
       "      <th>184</th>\n",
       "      <td>2020-09-22</td>\n",
       "      <td>112.860001</td>\n",
       "      <td>109.160004</td>\n",
       "      <td>112.680000</td>\n",
       "      <td>111.809998</td>\n",
       "      <td>183055400</td>\n",
       "      <td>111.617432</td>\n",
       "    </tr>\n",
       "    <tr>\n",
       "      <th>185</th>\n",
       "      <td>2020-09-23</td>\n",
       "      <td>112.110001</td>\n",
       "      <td>106.769997</td>\n",
       "      <td>111.620003</td>\n",
       "      <td>107.120003</td>\n",
       "      <td>150718700</td>\n",
       "      <td>106.935509</td>\n",
       "    </tr>\n",
       "    <tr>\n",
       "      <th>186</th>\n",
       "      <td>2020-09-24</td>\n",
       "      <td>110.250000</td>\n",
       "      <td>105.000000</td>\n",
       "      <td>105.169998</td>\n",
       "      <td>108.220001</td>\n",
       "      <td>167743300</td>\n",
       "      <td>108.033615</td>\n",
       "    </tr>\n",
       "    <tr>\n",
       "      <th>187</th>\n",
       "      <td>2020-09-25</td>\n",
       "      <td>112.440002</td>\n",
       "      <td>107.669998</td>\n",
       "      <td>108.430000</td>\n",
       "      <td>112.279999</td>\n",
       "      <td>149981400</td>\n",
       "      <td>112.086624</td>\n",
       "    </tr>\n",
       "  </tbody>\n",
       "</table>\n",
       "<p>185 rows × 7 columns</p>\n",
       "</div>"
      ],
      "text/plain": [
       "          Date        High         Low        Open       Close     Volume  \\\n",
       "3   2020-01-03   75.144997   74.125000   74.287498   74.357498  146322800   \n",
       "4   2020-01-06   74.989998   73.187500   73.447502   74.949997  118387200   \n",
       "5   2020-01-07   75.224998   74.370003   74.959999   74.597504  108872000   \n",
       "6   2020-01-08   76.110001   74.290001   74.290001   75.797501  132079200   \n",
       "7   2020-01-09   77.607498   76.550003   76.809998   77.407501  170108400   \n",
       "..         ...         ...         ...         ...         ...        ...   \n",
       "183 2020-09-21  110.190002  103.099998  104.540001  110.080002  195713800   \n",
       "184 2020-09-22  112.860001  109.160004  112.680000  111.809998  183055400   \n",
       "185 2020-09-23  112.110001  106.769997  111.620003  107.120003  150718700   \n",
       "186 2020-09-24  110.250000  105.000000  105.169998  108.220001  167743300   \n",
       "187 2020-09-25  112.440002  107.669998  108.430000  112.279999  149981400   \n",
       "\n",
       "      Adj Close  \n",
       "3     73.720840  \n",
       "4     74.308266  \n",
       "5     73.958794  \n",
       "6     75.148521  \n",
       "7     76.744728  \n",
       "..          ...  \n",
       "183  109.890411  \n",
       "184  111.617432  \n",
       "185  106.935509  \n",
       "186  108.033615  \n",
       "187  112.086624  \n",
       "\n",
       "[185 rows x 7 columns]"
      ]
     },
     "execution_count": 67,
     "metadata": {},
     "output_type": "execute_result"
    }
   ],
   "source": [
    "AAPL = pd.read_csv('E:\\AAPL.csv')\n",
    "AAPL['Date'] = pd.to_datetime(AAPL['Date'])\n",
    "mask = AAPL['Date'].between(start, end)\n",
    "df = AAPL.loc[mask]\n",
    "df\n"
   ]
  },
  {
   "cell_type": "code",
   "execution_count": 68,
   "metadata": {},
   "outputs": [
    {
     "data": {
      "image/png": "[encoded data removed]",
      "text/plain": [
       "<Figure size 640x480 with 1 Axes>"
      ]
     },
     "metadata": {},
     "output_type": "display_data"
    }
   ],
   "source": [
    "plt.plot(df['High'], color = 'blue')\n",
    "plt.plot(df['Low'], color = 'red')\n",
    "plt.plot(df['Open'], color = 'green')\n",
    "plt.plot(df['Close'], color = 'purple')\n",
    "plt.plot(df['Adj Close'], color = 'cyan')\n",
    "\n",
    "plt.show()"
   ]
  },
  {
   "cell_type": "code",
   "execution_count": 69,
   "metadata": {},
   "outputs": [
    {
     "data": {
      "image/png": "[encoded data removed]",
      "text/plain": [
       "<Figure size 640x480 with 1 Axes>"
      ]
     },
     "metadata": {},
     "output_type": "display_data"
    }
   ],
   "source": [
    "plt.plot(df['Volume'], color = 'orange')\n",
    "plt.show()"
   ]
  },
  {
   "cell_type": "code",
   "execution_count": 70,
   "metadata": {},
   "outputs": [
    {
     "name": "stdout",
     "output_type": "stream",
     "text": [
      "Mean: 86.13276666086486 \n",
      "Median: 79.57780457 \n",
      "Standard: 18.36711665158128\n"
     ]
    }
   ],
   "source": [
    "import statistics as st\n",
    "adj = df['Adj Close'].values\n",
    "mean = st.mean(adj)\n",
    "median = st.median(adj)\n",
    "std = st.stdev(adj)\n",
    "\n",
    "print(f\"Mean: {mean} \\nMedian: {median} \\nStandard: {std}\")"
   ]
  },
  {
   "cell_type": "code",
   "execution_count": 71,
   "metadata": {},
   "outputs": [
    {
     "data": {
      "text/plain": [
       "[<matplotlib.lines.Line2D at 0x238a2efcd30>]"
      ]
     },
     "execution_count": 71,
     "metadata": {},
     "output_type": "execute_result"
    },
    {
     "data": {
      "image/png": "[encoded data removed]",
      "text/plain": [
       "<Figure size 640x480 with 1 Axes>"
      ]
     },
     "metadata": {},
     "output_type": "display_data"
    }
   ],
   "source": [
    "#df['Adj Close'].plot()\n",
    "plt.plot(df['Adj Close'])"
   ]
  },
  {
   "cell_type": "markdown",
   "metadata": {},
   "source": [
    "GOOG.csv"
   ]
  },
  {
   "cell_type": "code",
   "execution_count": 72,
   "metadata": {},
   "outputs": [
    {
     "data": {
      "text/html": [
       "<div>\n",
       "<style scoped>\n",
       "    .dataframe tbody tr th:only-of-type {\n",
       "        vertical-align: middle;\n",
       "    }\n",
       "\n",
       "    .dataframe tbody tr th {\n",
       "        vertical-align: top;\n",
       "    }\n",
       "\n",
       "    .dataframe thead th {\n",
       "        text-align: right;\n",
       "    }\n",
       "</style>\n",
       "<table border=\"1\" class=\"dataframe\">\n",
       "  <thead>\n",
       "    <tr style=\"text-align: right;\">\n",
       "      <th></th>\n",
       "      <th>Date</th>\n",
       "      <th>High</th>\n",
       "      <th>Low</th>\n",
       "      <th>Open</th>\n",
       "      <th>Close</th>\n",
       "      <th>Volume</th>\n",
       "      <th>Adj Close</th>\n",
       "    </tr>\n",
       "  </thead>\n",
       "  <tbody>\n",
       "    <tr>\n",
       "      <th>3</th>\n",
       "      <td>2020-01-03</td>\n",
       "      <td>1372.500000</td>\n",
       "      <td>1345.543945</td>\n",
       "      <td>1347.859985</td>\n",
       "      <td>1360.660034</td>\n",
       "      <td>1186400</td>\n",
       "      <td>1360.660034</td>\n",
       "    </tr>\n",
       "    <tr>\n",
       "      <th>4</th>\n",
       "      <td>2020-01-06</td>\n",
       "      <td>1396.500000</td>\n",
       "      <td>1350.000000</td>\n",
       "      <td>1350.000000</td>\n",
       "      <td>1394.209961</td>\n",
       "      <td>1732300</td>\n",
       "      <td>1394.209961</td>\n",
       "    </tr>\n",
       "    <tr>\n",
       "      <th>5</th>\n",
       "      <td>2020-01-07</td>\n",
       "      <td>1402.989990</td>\n",
       "      <td>1390.380005</td>\n",
       "      <td>1397.939941</td>\n",
       "      <td>1393.339966</td>\n",
       "      <td>1502700</td>\n",
       "      <td>1393.339966</td>\n",
       "    </tr>\n",
       "    <tr>\n",
       "      <th>6</th>\n",
       "      <td>2020-01-08</td>\n",
       "      <td>1411.579956</td>\n",
       "      <td>1390.839966</td>\n",
       "      <td>1392.079956</td>\n",
       "      <td>1404.319946</td>\n",
       "      <td>1528000</td>\n",
       "      <td>1404.319946</td>\n",
       "    </tr>\n",
       "    <tr>\n",
       "      <th>7</th>\n",
       "      <td>2020-01-09</td>\n",
       "      <td>1427.329956</td>\n",
       "      <td>1410.270020</td>\n",
       "      <td>1420.569946</td>\n",
       "      <td>1419.829956</td>\n",
       "      <td>1500900</td>\n",
       "      <td>1419.829956</td>\n",
       "    </tr>\n",
       "    <tr>\n",
       "      <th>...</th>\n",
       "      <td>...</td>\n",
       "      <td>...</td>\n",
       "      <td>...</td>\n",
       "      <td>...</td>\n",
       "      <td>...</td>\n",
       "      <td>...</td>\n",
       "      <td>...</td>\n",
       "    </tr>\n",
       "    <tr>\n",
       "      <th>183</th>\n",
       "      <td>2020-09-21</td>\n",
       "      <td>1448.359985</td>\n",
       "      <td>1406.550049</td>\n",
       "      <td>1440.060059</td>\n",
       "      <td>1431.160034</td>\n",
       "      <td>2888800</td>\n",
       "      <td>1431.160034</td>\n",
       "    </tr>\n",
       "    <tr>\n",
       "      <th>184</th>\n",
       "      <td>2020-09-22</td>\n",
       "      <td>1469.520020</td>\n",
       "      <td>1434.530029</td>\n",
       "      <td>1450.089966</td>\n",
       "      <td>1465.459961</td>\n",
       "      <td>1583200</td>\n",
       "      <td>1465.459961</td>\n",
       "    </tr>\n",
       "    <tr>\n",
       "      <th>185</th>\n",
       "      <td>2020-09-23</td>\n",
       "      <td>1460.959961</td>\n",
       "      <td>1407.699951</td>\n",
       "      <td>1458.780029</td>\n",
       "      <td>1415.209961</td>\n",
       "      <td>1657400</td>\n",
       "      <td>1415.209961</td>\n",
       "    </tr>\n",
       "    <tr>\n",
       "      <th>186</th>\n",
       "      <td>2020-09-24</td>\n",
       "      <td>1443.708984</td>\n",
       "      <td>1409.849976</td>\n",
       "      <td>1411.030029</td>\n",
       "      <td>1428.290039</td>\n",
       "      <td>1450200</td>\n",
       "      <td>1428.290039</td>\n",
       "    </tr>\n",
       "    <tr>\n",
       "      <th>187</th>\n",
       "      <td>2020-09-25</td>\n",
       "      <td>1450.000000</td>\n",
       "      <td>1413.339966</td>\n",
       "      <td>1432.630005</td>\n",
       "      <td>1444.959961</td>\n",
       "      <td>1323000</td>\n",
       "      <td>1444.959961</td>\n",
       "    </tr>\n",
       "  </tbody>\n",
       "</table>\n",
       "<p>185 rows × 7 columns</p>\n",
       "</div>"
      ],
      "text/plain": [
       "          Date         High          Low         Open        Close   Volume  \\\n",
       "3   2020-01-03  1372.500000  1345.543945  1347.859985  1360.660034  1186400   \n",
       "4   2020-01-06  1396.500000  1350.000000  1350.000000  1394.209961  1732300   \n",
       "5   2020-01-07  1402.989990  1390.380005  1397.939941  1393.339966  1502700   \n",
       "6   2020-01-08  1411.579956  1390.839966  1392.079956  1404.319946  1528000   \n",
       "7   2020-01-09  1427.329956  1410.270020  1420.569946  1419.829956  1500900   \n",
       "..         ...          ...          ...          ...          ...      ...   \n",
       "183 2020-09-21  1448.359985  1406.550049  1440.060059  1431.160034  2888800   \n",
       "184 2020-09-22  1469.520020  1434.530029  1450.089966  1465.459961  1583200   \n",
       "185 2020-09-23  1460.959961  1407.699951  1458.780029  1415.209961  1657400   \n",
       "186 2020-09-24  1443.708984  1409.849976  1411.030029  1428.290039  1450200   \n",
       "187 2020-09-25  1450.000000  1413.339966  1432.630005  1444.959961  1323000   \n",
       "\n",
       "       Adj Close  \n",
       "3    1360.660034  \n",
       "4    1394.209961  \n",
       "5    1393.339966  \n",
       "6    1404.319946  \n",
       "7    1419.829956  \n",
       "..           ...  \n",
       "183  1431.160034  \n",
       "184  1465.459961  \n",
       "185  1415.209961  \n",
       "186  1428.290039  \n",
       "187  1444.959961  \n",
       "\n",
       "[185 rows x 7 columns]"
      ]
     },
     "execution_count": 72,
     "metadata": {},
     "output_type": "execute_result"
    }
   ],
   "source": [
    "GOOG = pd.read_csv('E:\\GOOG.csv')\n",
    "GOOG['Date'] = pd.to_datetime(GOOG['Date'])\n",
    "mask = GOOG['Date'].between(start, end)\n",
    "df = GOOG.loc[mask]\n",
    "df"
   ]
  },
  {
   "cell_type": "code",
   "execution_count": 73,
   "metadata": {},
   "outputs": [
    {
     "data": {
      "image/png": "[encoded data removed]",
      "text/plain": [
       "<Figure size 640x480 with 1 Axes>"
      ]
     },
     "metadata": {},
     "output_type": "display_data"
    }
   ],
   "source": [
    "plt.plot(df['High'], color = 'blue')\n",
    "plt.plot(df['Low'], color = 'red')\n",
    "plt.plot(df['Open'], color = 'green')\n",
    "plt.plot(df['Close'], color = 'purple')\n",
    "plt.plot(df['Adj Close'], color = 'cyan')\n",
    "\n",
    "plt.show()"
   ]
  },
  {
   "cell_type": "code",
   "execution_count": 85,
   "metadata": {},
   "outputs": [
    {
     "data": {
      "application/vnd.plotly.v1+json": {
       "config": {
        "plotlyServerURL": "https://plot.ly"
       },
       "data": [
        {
         "alignmentgroup": "True",
         "hovertemplate": "variable=Volume<br>index=%{x}<br>value=%{y}<extra></extra>",
         "legendgroup": "Volume",
         "marker": {
          "color": "#636efa",
          "pattern": {
           "shape": ""
          }
         },
         "name": "Volume",
         "offsetgroup": "Volume",
         "orientation": "v",
         "showlegend": true,
         "textposition": "auto",
         "type": "bar",
         "x": [
          3,
          4,
          5,
          6,
          7,
          8,
          9,
          10,
          11,
          12,
          13,
          14,
          15,
          16,
          17,
          18,
          19,
          20,
          21,
          22,
          23,
          24,
          25,
          26,
          27,
          28,
          29,
          30,
          31,
          32,
          33,
          34,
          35,
          36,
          37,
          38,
          39,
          40,
          41,
          42,
          43,
          44,
          45,
          46,
          47,
          48,
          49,
          50,
          51,
          52,
          53,
          54,
          55,
          56,
          57,
          58,
          59,
          60,
          61,
          62,
          63,
          64,
          65,
          66,
          67,
          68,
          69,
          70,
          71,
          72,
          73,
          74,
          75,
          76,
          77,
          78,
          79,
          80,
          81,
          82,
          83,
          84,
          85,
          86,
          87,
          88,
          89,
          90,
          91,
          92,
          93,
          94,
          95,
          96,
          97,
          98,
          99,
          100,
          101,
          102,
          103,
          104,
          105,
          106,
          107,
          108,
          109,
          110,
          111,
          112,
          113,
          114,
          115,
          116,
          117,
          118,
          119,
          120,
          121,
          122,
          123,
          124,
          125,
          126,
          127,
          128,
          129,
          130,
          131,
          132,
          133,
          134,
          135,
          136,
          137,
          138,
          139,
          140,
          141,
          142,
          143,
          144,
          145,
          146,
          147,
          148,
          149,
          150,
          151,
          152,
          153,
          154,
          155,
          156,
          157,
          158,
          159,
          160,
          161,
          162,
          163,
          164,
          165,
          166,
          167,
          168,
          169,
          170,
          171,
          172,
          173,
          174,
          175,
          176,
          177,
          178,
          179,
          180,
          181,
          182,
          183,
          184,
          185,
          186,
          187
         ],
         "xaxis": "x",
         "y": [
          21116200,
          20813700,
          21634100,
          27746500,
          21385000,
          20725900,
          21626500,
          23477400,
          21417900,
          23865400,
          34371700,
          29517200,
          24138800,
          19680800,
          24918100,
          32078100,
          24899900,
          34754500,
          51597500,
          36142700,
          30149100,
          36433300,
          39186300,
          27751400,
          33529100,
          35844300,
          53159900,
          47062900,
          35295800,
          23149500,
          27792200,
          29997500,
          36862400,
          48572600,
          68311100,
          68073300,
          56206100,
          93174900,
          97073600,
          71030800,
          71677000,
          49814400,
          47817300,
          72821100,
          70419300,
          65354400,
          56371600,
          93226400,
          92727400,
          87905900,
          81059800,
          81593200,
          85922700,
          84866200,
          78975200,
          82516700,
          75638200,
          64568100,
          57042300,
          63420300,
          77927200,
          57969900,
          49630700,
          41243300,
          67111700,
          62769000,
          48318200,
          51431800,
          41905300,
          52874300,
          40940800,
          50479600,
          52765600,
          36669600,
          56203700,
          34651600,
          32790800,
          34305300,
          33194400,
          34392700,
          51286600,
          53875900,
          39370500,
          30372900,
          36839200,
          32139300,
          28316000,
          30912600,
          30892700,
          32038200,
          44711500,
          41873900,
          46610400,
          35306600,
          26799100,
          31261300,
          29119500,
          20826900,
          36073600,
          39517100,
          33810200,
          42146700,
          22622400,
          30794600,
          27311000,
          28761800,
          39893600,
          33211600,
          29783900,
          43872300,
          52854700,
          43345700,
          32770200,
          42556700,
          25655900,
          23061600,
          44441100,
          32818900,
          30917400,
          36740600,
          27803900,
          54675800,
          26680600,
          34310300,
          32061200,
          29315800,
          31897600,
          33600700,
          33600000,
          33121700,
          26177600,
          38135600,
          37591800,
          32179400,
          29940700,
          31635300,
          36884800,
          38105800,
          49605700,
          67457000,
          39827000,
          30160900,
          23251400,
          19632600,
          25079600,
          51248000,
          78983000,
          49280100,
          28858600,
          32656800,
          27789600,
          36716500,
          36446500,
          28041400,
          22588900,
          17958900,
          20184800,
          21336200,
          27627600,
          26981500,
          36249300,
          25460100,
          23043700,
          39600800,
          57602200,
          26292900,
          28774200,
          25791200,
          34080800,
          58400300,
          59664100,
          52924300,
          45679000,
          35461500,
          33620100,
          30375800,
          21823900,
          26328100,
          34011300,
          55225300,
          39839700,
          33517100,
          30803800,
          31202500,
          29437300
         ],
         "yaxis": "y"
        }
       ],
       "layout": {
        "barmode": "relative",
        "legend": {
         "title": {
          "text": "variable"
         },
         "tracegroupgap": 0
        },
        "margin": {
         "t": 60
        },
        "template": {
         "data": {
          "bar": [
           {
            "error_x": {
             "color": "#2a3f5f"
            },
            "error_y": {
             "color": "#2a3f5f"
            },
            "marker": {
             "line": {
              "color": "#E5ECF6",
              "width": 0.5
             },
             "pattern": {
              "fillmode": "overlay",
              "size": 10,
              "solidity": 0.2
             }
            },
            "type": "bar"
           }
          ],
          "barpolar": [
           {
            "marker": {
             "line": {
              "color": "#E5ECF6",
              "width": 0.5
             },
             "pattern": {
              "fillmode": "overlay",
              "size": 10,
              "solidity": 0.2
             }
            },
            "type": "barpolar"
           }
          ],
          "carpet": [
           {
            "aaxis": {
             "endlinecolor": "#2a3f5f",
             "gridcolor": "white",
             "linecolor": "white",
             "minorgridcolor": "white",
             "startlinecolor": "#2a3f5f"
            },
            "baxis": {
             "endlinecolor": "#2a3f5f",
             "gridcolor": "white",
             "linecolor": "white",
             "minorgridcolor": "white",
             "startlinecolor": "#2a3f5f"
            },
            "type": "carpet"
           }
          ],
          "choropleth": [
           {
            "colorbar": {
             "outlinewidth": 0,
             "ticks": ""
            },
            "type": "choropleth"
           }
          ],
          "contour": [
           {
            "colorbar": {
             "outlinewidth": 0,
             "ticks": ""
            },
            "colorscale": [
             [
              0,
              "#0d0887"
             ],
             [
              0.1111111111111111,
              "#46039f"
             ],
             [
              0.2222222222222222,
              "#7201a8"
             ],
             [
              0.3333333333333333,
              "#9c179e"
             ],
             [
              0.4444444444444444,
              "#bd3786"
             ],
             [
              0.5555555555555556,
              "#d8576b"
             ],
             [
              0.6666666666666666,
              "#ed7953"
             ],
             [
              0.7777777777777778,
              "#fb9f3a"
             ],
             [
              0.8888888888888888,
              "#fdca26"
             ],
             [
              1,
              "#f0f921"
             ]
            ],
            "type": "contour"
           }
          ],
          "contourcarpet": [
           {
            "colorbar": {
             "outlinewidth": 0,
             "ticks": ""
            },
            "type": "contourcarpet"
           }
          ],
          "heatmap": [
           {
            "colorbar": {
             "outlinewidth": 0,
             "ticks": ""
            },
            "colorscale": [
             [
              0,
              "#0d0887"
             ],
             [
              0.1111111111111111,
              "#46039f"
             ],
             [
              0.2222222222222222,
              "#7201a8"
             ],
             [
              0.3333333333333333,
              "#9c179e"
             ],
             [
              0.4444444444444444,
              "#bd3786"
             ],
             [
              0.5555555555555556,
              "#d8576b"
             ],
             [
              0.6666666666666666,
              "#ed7953"
             ],
             [
              0.7777777777777778,
              "#fb9f3a"
             ],
             [
              0.8888888888888888,
              "#fdca26"
             ],
             [
              1,
              "#f0f921"
             ]
            ],
            "type": "heatmap"
           }
          ],
          "heatmapgl": [
           {
            "colorbar": {
             "outlinewidth": 0,
             "ticks": ""
            },
            "colorscale": [
             [
              0,
              "#0d0887"
             ],
             [
              0.1111111111111111,
              "#46039f"
             ],
             [
              0.2222222222222222,
              "#7201a8"
             ],
             [
              0.3333333333333333,
              "#9c179e"
             ],
             [
              0.4444444444444444,
              "#bd3786"
             ],
             [
              0.5555555555555556,
              "#d8576b"
             ],
             [
              0.6666666666666666,
              "#ed7953"
             ],
             [
              0.7777777777777778,
              "#fb9f3a"
             ],
             [
              0.8888888888888888,
              "#fdca26"
             ],
             [
              1,
              "#f0f921"
             ]
            ],
            "type": "heatmapgl"
           }
          ],
          "histogram": [
           {
            "marker": {
             "pattern": {
              "fillmode": "overlay",
              "size": 10,
              "solidity": 0.2
             }
            },
            "type": "histogram"
           }
          ],
          "histogram2d": [
           {
            "colorbar": {
             "outlinewidth": 0,
             "ticks": ""
            },
            "colorscale": [
             [
              0,
              "#0d0887"
             ],
             [
              0.1111111111111111,
              "#46039f"
             ],
             [
              0.2222222222222222,
              "#7201a8"
             ],
             [
              0.3333333333333333,
              "#9c179e"
             ],
             [
              0.4444444444444444,
              "#bd3786"
             ],
             [
              0.5555555555555556,
              "#d8576b"
             ],
             [
              0.6666666666666666,
              "#ed7953"
             ],
             [
              0.7777777777777778,
              "#fb9f3a"
             ],
             [
              0.8888888888888888,
              "#fdca26"
             ],
             [
              1,
              "#f0f921"
             ]
            ],
            "type": "histogram2d"
           }
          ],
          "histogram2dcontour": [
           {
            "colorbar": {
             "outlinewidth": 0,
             "ticks": ""
            },
            "colorscale": [
             [
              0,
              "#0d0887"
             ],
             [
              0.1111111111111111,
              "#46039f"
             ],
             [
              0.2222222222222222,
              "#7201a8"
             ],
             [
              0.3333333333333333,
              "#9c179e"
             ],
             [
              0.4444444444444444,
              "#bd3786"
             ],
             [
              0.5555555555555556,
              "#d8576b"
             ],
             [
              0.6666666666666666,
              "#ed7953"
             ],
             [
              0.7777777777777778,
              "#fb9f3a"
             ],
             [
              0.8888888888888888,
              "#fdca26"
             ],
             [
              1,
              "#f0f921"
             ]
            ],
            "type": "histogram2dcontour"
           }
          ],
          "mesh3d": [
           {
            "colorbar": {
             "outlinewidth": 0,
             "ticks": ""
            },
            "type": "mesh3d"
           }
          ],
          "parcoords": [
           {
            "line": {
             "colorbar": {
              "outlinewidth": 0,
              "ticks": ""
             }
            },
            "type": "parcoords"
           }
          ],
          "pie": [
           {
            "automargin": true,
            "type": "pie"
           }
          ],
          "scatter": [
           {
            "fillpattern": {
             "fillmode": "overlay",
             "size": 10,
             "solidity": 0.2
            },
            "type": "scatter"
           }
          ],
          "scatter3d": [
           {
            "line": {
             "colorbar": {
              "outlinewidth": 0,
              "ticks": ""
             }
            },
            "marker": {
             "colorbar": {
              "outlinewidth": 0,
              "ticks": ""
             }
            },
            "type": "scatter3d"
           }
          ],
          "scattercarpet": [
           {
            "marker": {
             "colorbar": {
              "outlinewidth": 0,
              "ticks": ""
             }
            },
            "type": "scattercarpet"
           }
          ],
          "scattergeo": [
           {
            "marker": {
             "colorbar": {
              "outlinewidth": 0,
              "ticks": ""
             }
            },
            "type": "scattergeo"
           }
          ],
          "scattergl": [
           {
            "marker": {
             "colorbar": {
              "outlinewidth": 0,
              "ticks": ""
             }
            },
            "type": "scattergl"
           }
          ],
          "scattermapbox": [
           {
            "marker": {
             "colorbar": {
              "outlinewidth": 0,
              "ticks": ""
             }
            },
            "type": "scattermapbox"
           }
          ],
          "scatterpolar": [
           {
            "marker": {
             "colorbar": {
              "outlinewidth": 0,
              "ticks": ""
             }
            },
            "type": "scatterpolar"
           }
          ],
          "scatterpolargl": [
           {
            "marker": {
             "colorbar": {
              "outlinewidth": 0,
              "ticks": ""
             }
            },
            "type": "scatterpolargl"
           }
          ],
          "scatterternary": [
           {
            "marker": {
             "colorbar": {
              "outlinewidth": 0,
              "ticks": ""
             }
            },
            "type": "scatterternary"
           }
          ],
          "surface": [
           {
            "colorbar": {
             "outlinewidth": 0,
             "ticks": ""
            },
            "colorscale": [
             [
              0,
              "#0d0887"
             ],
             [
              0.1111111111111111,
              "#46039f"
             ],
             [
              0.2222222222222222,
              "#7201a8"
             ],
             [
              0.3333333333333333,
              "#9c179e"
             ],
             [
              0.4444444444444444,
              "#bd3786"
             ],
             [
              0.5555555555555556,
              "#d8576b"
             ],
             [
              0.6666666666666666,
              "#ed7953"
             ],
             [
              0.7777777777777778,
              "#fb9f3a"
             ],
             [
              0.8888888888888888,
              "#fdca26"
             ],
             [
              1,
              "#f0f921"
             ]
            ],
            "type": "surface"
           }
          ],
          "table": [
           {
            "cells": {
             "fill": {
              "color": "#EBF0F8"
             },
             "line": {
              "color": "white"
             }
            },
            "header": {
             "fill": {
              "color": "#C8D4E3"
             },
             "line": {
              "color": "white"
             }
            },
            "type": "table"
           }
          ]
         },
         "layout": {
          "annotationdefaults": {
           "arrowcolor": "#2a3f5f",
           "arrowhead": 0,
           "arrowwidth": 1
          },
          "autotypenumbers": "strict",
          "coloraxis": {
           "colorbar": {
            "outlinewidth": 0,
            "ticks": ""
           }
          },
          "colorscale": {
           "diverging": [
            [
             0,
             "#8e0152"
            ],
            [
             0.1,
             "#c51b7d"
            ],
            [
             0.2,
             "#de77ae"
            ],
            [
             0.3,
             "#f1b6da"
            ],
            [
             0.4,
             "#fde0ef"
            ],
            [
             0.5,
             "#f7f7f7"
            ],
            [
             0.6,
             "#e6f5d0"
            ],
            [
             0.7,
             "#b8e186"
            ],
            [
             0.8,
             "#7fbc41"
            ],
            [
             0.9,
             "#4d9221"
            ],
            [
             1,
             "#276419"
            ]
           ],
           "sequential": [
            [
             0,
             "#0d0887"
            ],
            [
             0.1111111111111111,
             "#46039f"
            ],
            [
             0.2222222222222222,
             "#7201a8"
            ],
            [
             0.3333333333333333,
             "#9c179e"
            ],
            [
             0.4444444444444444,
             "#bd3786"
            ],
            [
             0.5555555555555556,
             "#d8576b"
            ],
            [
             0.6666666666666666,
             "#ed7953"
            ],
            [
             0.7777777777777778,
             "#fb9f3a"
            ],
            [
             0.8888888888888888,
             "#fdca26"
            ],
            [
             1,
             "#f0f921"
            ]
           ],
           "sequentialminus": [
            [
             0,
             "#0d0887"
            ],
            [
             0.1111111111111111,
             "#46039f"
            ],
            [
             0.2222222222222222,
             "#7201a8"
            ],
            [
             0.3333333333333333,
             "#9c179e"
            ],
            [
             0.4444444444444444,
             "#bd3786"
            ],
            [
             0.5555555555555556,
             "#d8576b"
            ],
            [
             0.6666666666666666,
             "#ed7953"
            ],
            [
             0.7777777777777778,
             "#fb9f3a"
            ],
            [
             0.8888888888888888,
             "#fdca26"
            ],
            [
             1,
             "#f0f921"
            ]
           ]
          },
          "colorway": [
           "#636efa",
           "#EF553B",
           "#00cc96",
           "#ab63fa",
           "#FFA15A",
           "#19d3f3",
           "#FF6692",
           "#B6E880",
           "#FF97FF",
           "#FECB52"
          ],
          "font": {
           "color": "#2a3f5f"
          },
          "geo": {
           "bgcolor": "white",
           "lakecolor": "white",
           "landcolor": "#E5ECF6",
           "showlakes": true,
           "showland": true,
           "subunitcolor": "white"
          },
          "hoverlabel": {
           "align": "left"
          },
          "hovermode": "closest",
          "mapbox": {
           "style": "light"
          },
          "paper_bgcolor": "white",
          "plot_bgcolor": "#E5ECF6",
          "polar": {
           "angularaxis": {
            "gridcolor": "white",
            "linecolor": "white",
            "ticks": ""
           },
           "bgcolor": "#E5ECF6",
           "radialaxis": {
            "gridcolor": "white",
            "linecolor": "white",
            "ticks": ""
           }
          },
          "scene": {
           "xaxis": {
            "backgroundcolor": "#E5ECF6",
            "gridcolor": "white",
            "gridwidth": 2,
            "linecolor": "white",
            "showbackground": true,
            "ticks": "",
            "zerolinecolor": "white"
           },
           "yaxis": {
            "backgroundcolor": "#E5ECF6",
            "gridcolor": "white",
            "gridwidth": 2,
            "linecolor": "white",
            "showbackground": true,
            "ticks": "",
            "zerolinecolor": "white"
           },
           "zaxis": {
            "backgroundcolor": "#E5ECF6",
            "gridcolor": "white",
            "gridwidth": 2,
            "linecolor": "white",
            "showbackground": true,
            "ticks": "",
            "zerolinecolor": "white"
           }
          },
          "shapedefaults": {
           "line": {
            "color": "#2a3f5f"
           }
          },
          "ternary": {
           "aaxis": {
            "gridcolor": "white",
            "linecolor": "white",
            "ticks": ""
           },
           "baxis": {
            "gridcolor": "white",
            "linecolor": "white",
            "ticks": ""
           },
           "bgcolor": "#E5ECF6",
           "caxis": {
            "gridcolor": "white",
            "linecolor": "white",
            "ticks": ""
           }
          },
          "title": {
           "x": 0.05
          },
          "xaxis": {
           "automargin": true,
           "gridcolor": "white",
           "linecolor": "white",
           "ticks": "",
           "title": {
            "standoff": 15
           },
           "zerolinecolor": "white",
           "zerolinewidth": 2
          },
          "yaxis": {
           "automargin": true,
           "gridcolor": "white",
           "linecolor": "white",
           "ticks": "",
           "title": {
            "standoff": 15
           },
           "zerolinecolor": "white",
           "zerolinewidth": 2
          }
         }
        },
        "xaxis": {
         "anchor": "y",
         "domain": [
          0,
          1
         ],
         "title": {
          "text": "index"
         }
        },
        "yaxis": {
         "anchor": "x",
         "domain": [
          0,
          1
         ],
         "title": {
          "text": "value"
         }
        }
       }
      }
     },
     "metadata": {},
     "output_type": "display_data"
    }
   ],
   "source": [
    "df1= df['Volume']\n",
    "fig1 = df1.plot.bar()\n",
    "fig1.show()"
   ]
  },
  {
   "cell_type": "code",
   "execution_count": 74,
   "metadata": {},
   "outputs": [
    {
     "data": {
      "image/png": "[encoded data removed]",
      "text/plain": [
       "<Figure size 640x480 with 1 Axes>"
      ]
     },
     "metadata": {},
     "output_type": "display_data"
    }
   ],
   "source": [
    "plt.plot(df['Volume'], color = 'orange')\n",
    "plt.show()"
   ]
  },
  {
   "cell_type": "code",
   "execution_count": 75,
   "metadata": {},
   "outputs": [
    {
     "name": "stdout",
     "output_type": "stream",
     "text": [
      "Mean: 1411.0109955658784 \n",
      "Median: 1438.0400390625 \n",
      "Standard: 135.33214705903862\n"
     ]
    }
   ],
   "source": [
    "adj = df['Adj Close'].values\n",
    "mean = st.mean(adj)\n",
    "median = st.median(adj)\n",
    "std = st.stdev(adj)\n",
    "\n",
    "print(f\"Mean: {mean} \\nMedian: {median} \\nStandard: {std}\")\n"
   ]
  },
  {
   "cell_type": "code",
   "execution_count": 76,
   "metadata": {},
   "outputs": [
    {
     "data": {
      "text/plain": [
       "[<matplotlib.lines.Line2D at 0x238a442cd30>]"
      ]
     },
     "execution_count": 76,
     "metadata": {},
     "output_type": "execute_result"
    },
    {
     "data": {
      "image/png": "[encoded data removed]",
      "text/plain": [
       "<Figure size 640x480 with 1 Axes>"
      ]
     },
     "metadata": {},
     "output_type": "display_data"
    }
   ],
   "source": [
    "plt.plot(df['Adj Close'])"
   ]
  },
  {
   "cell_type": "markdown",
   "metadata": {},
   "source": [
    "MSFT.csv"
   ]
  },
  {
   "cell_type": "code",
   "execution_count": 77,
   "metadata": {},
   "outputs": [
    {
     "data": {
      "text/html": [
       "<div>\n",
       "<style scoped>\n",
       "    .dataframe tbody tr th:only-of-type {\n",
       "        vertical-align: middle;\n",
       "    }\n",
       "\n",
       "    .dataframe tbody tr th {\n",
       "        vertical-align: top;\n",
       "    }\n",
       "\n",
       "    .dataframe thead th {\n",
       "        text-align: right;\n",
       "    }\n",
       "</style>\n",
       "<table border=\"1\" class=\"dataframe\">\n",
       "  <thead>\n",
       "    <tr style=\"text-align: right;\">\n",
       "      <th></th>\n",
       "      <th>Date</th>\n",
       "      <th>High</th>\n",
       "      <th>Low</th>\n",
       "      <th>Open</th>\n",
       "      <th>Close</th>\n",
       "      <th>Volume</th>\n",
       "      <th>Adj Close</th>\n",
       "    </tr>\n",
       "  </thead>\n",
       "  <tbody>\n",
       "    <tr>\n",
       "      <th>3</th>\n",
       "      <td>2020-01-03</td>\n",
       "      <td>159.949997</td>\n",
       "      <td>158.059998</td>\n",
       "      <td>158.320007</td>\n",
       "      <td>158.619995</td>\n",
       "      <td>21116200.0</td>\n",
       "      <td>156.957260</td>\n",
       "    </tr>\n",
       "    <tr>\n",
       "      <th>4</th>\n",
       "      <td>2020-01-06</td>\n",
       "      <td>159.100006</td>\n",
       "      <td>156.509995</td>\n",
       "      <td>157.080002</td>\n",
       "      <td>159.029999</td>\n",
       "      <td>20813700.0</td>\n",
       "      <td>157.362961</td>\n",
       "    </tr>\n",
       "    <tr>\n",
       "      <th>5</th>\n",
       "      <td>2020-01-07</td>\n",
       "      <td>159.669998</td>\n",
       "      <td>157.320007</td>\n",
       "      <td>159.320007</td>\n",
       "      <td>157.580002</td>\n",
       "      <td>21634100.0</td>\n",
       "      <td>155.928177</td>\n",
       "    </tr>\n",
       "    <tr>\n",
       "      <th>6</th>\n",
       "      <td>2020-01-08</td>\n",
       "      <td>160.800003</td>\n",
       "      <td>157.949997</td>\n",
       "      <td>158.929993</td>\n",
       "      <td>160.089996</td>\n",
       "      <td>27746500.0</td>\n",
       "      <td>158.411835</td>\n",
       "    </tr>\n",
       "    <tr>\n",
       "      <th>7</th>\n",
       "      <td>2020-01-09</td>\n",
       "      <td>162.220001</td>\n",
       "      <td>161.029999</td>\n",
       "      <td>161.839996</td>\n",
       "      <td>162.089996</td>\n",
       "      <td>21385000.0</td>\n",
       "      <td>160.390869</td>\n",
       "    </tr>\n",
       "    <tr>\n",
       "      <th>...</th>\n",
       "      <td>...</td>\n",
       "      <td>...</td>\n",
       "      <td>...</td>\n",
       "      <td>...</td>\n",
       "      <td>...</td>\n",
       "      <td>...</td>\n",
       "      <td>...</td>\n",
       "    </tr>\n",
       "    <tr>\n",
       "      <th>183</th>\n",
       "      <td>2020-09-21</td>\n",
       "      <td>202.710007</td>\n",
       "      <td>196.380005</td>\n",
       "      <td>197.190002</td>\n",
       "      <td>202.539993</td>\n",
       "      <td>39839700.0</td>\n",
       "      <td>202.011124</td>\n",
       "    </tr>\n",
       "    <tr>\n",
       "      <th>184</th>\n",
       "      <td>2020-09-22</td>\n",
       "      <td>208.100006</td>\n",
       "      <td>202.080002</td>\n",
       "      <td>205.059998</td>\n",
       "      <td>207.419998</td>\n",
       "      <td>33517100.0</td>\n",
       "      <td>206.878372</td>\n",
       "    </tr>\n",
       "    <tr>\n",
       "      <th>185</th>\n",
       "      <td>2020-09-23</td>\n",
       "      <td>208.100006</td>\n",
       "      <td>200.029999</td>\n",
       "      <td>207.899994</td>\n",
       "      <td>200.589996</td>\n",
       "      <td>30803800.0</td>\n",
       "      <td>200.066208</td>\n",
       "    </tr>\n",
       "    <tr>\n",
       "      <th>186</th>\n",
       "      <td>2020-09-24</td>\n",
       "      <td>205.570007</td>\n",
       "      <td>199.199997</td>\n",
       "      <td>199.850006</td>\n",
       "      <td>203.190002</td>\n",
       "      <td>31202500.0</td>\n",
       "      <td>202.659424</td>\n",
       "    </tr>\n",
       "    <tr>\n",
       "      <th>187</th>\n",
       "      <td>2020-09-25</td>\n",
       "      <td>209.039993</td>\n",
       "      <td>202.539993</td>\n",
       "      <td>203.550003</td>\n",
       "      <td>207.820007</td>\n",
       "      <td>29437300.0</td>\n",
       "      <td>207.277344</td>\n",
       "    </tr>\n",
       "  </tbody>\n",
       "</table>\n",
       "<p>185 rows × 7 columns</p>\n",
       "</div>"
      ],
      "text/plain": [
       "          Date        High         Low        Open       Close      Volume  \\\n",
       "3   2020-01-03  159.949997  158.059998  158.320007  158.619995  21116200.0   \n",
       "4   2020-01-06  159.100006  156.509995  157.080002  159.029999  20813700.0   \n",
       "5   2020-01-07  159.669998  157.320007  159.320007  157.580002  21634100.0   \n",
       "6   2020-01-08  160.800003  157.949997  158.929993  160.089996  27746500.0   \n",
       "7   2020-01-09  162.220001  161.029999  161.839996  162.089996  21385000.0   \n",
       "..         ...         ...         ...         ...         ...         ...   \n",
       "183 2020-09-21  202.710007  196.380005  197.190002  202.539993  39839700.0   \n",
       "184 2020-09-22  208.100006  202.080002  205.059998  207.419998  33517100.0   \n",
       "185 2020-09-23  208.100006  200.029999  207.899994  200.589996  30803800.0   \n",
       "186 2020-09-24  205.570007  199.199997  199.850006  203.190002  31202500.0   \n",
       "187 2020-09-25  209.039993  202.539993  203.550003  207.820007  29437300.0   \n",
       "\n",
       "      Adj Close  \n",
       "3    156.957260  \n",
       "4    157.362961  \n",
       "5    155.928177  \n",
       "6    158.411835  \n",
       "7    160.390869  \n",
       "..          ...  \n",
       "183  202.011124  \n",
       "184  206.878372  \n",
       "185  200.066208  \n",
       "186  202.659424  \n",
       "187  207.277344  \n",
       "\n",
       "[185 rows x 7 columns]"
      ]
     },
     "execution_count": 77,
     "metadata": {},
     "output_type": "execute_result"
    }
   ],
   "source": [
    "MSFT = pd.read_csv('E:\\MSFT.csv')\n",
    "MSFT['Date'] = pd.to_datetime(MSFT['Date'])\n",
    "mask = MSFT['Date'].between(start, end)\n",
    "df = MSFT.loc[mask]\n",
    "df"
   ]
  },
  {
   "cell_type": "code",
   "execution_count": 78,
   "metadata": {},
   "outputs": [
    {
     "data": {
      "image/png": "[encoded data removed]",
      "text/plain": [
       "<Figure size 640x480 with 1 Axes>"
      ]
     },
     "metadata": {},
     "output_type": "display_data"
    }
   ],
   "source": [
    "plt.plot(df['High'], color = 'blue')\n",
    "plt.plot(df['Low'], color = 'red')\n",
    "plt.plot(df['Open'], color = 'green')\n",
    "plt.plot(df['Close'], color = 'purple')\n",
    "plt.plot(df['Adj Close'], color = 'cyan')\n",
    "\n",
    "plt.show()"
   ]
  },
  {
   "cell_type": "code",
   "execution_count": 79,
   "metadata": {},
   "outputs": [
    {
     "data": {
      "image/png": "[encoded data removed]",
      "text/plain": [
       "<Figure size 640x480 with 1 Axes>"
      ]
     },
     "metadata": {},
     "output_type": "display_data"
    }
   ],
   "source": [
    "plt.plot(df['Volume'], color = 'orange')\n",
    "plt.show()"
   ]
  },
  {
   "cell_type": "code",
   "execution_count": 80,
   "metadata": {},
   "outputs": [
    {
     "name": "stdout",
     "output_type": "stream",
     "text": [
      "Mean: 184.1609649658203 \n",
      "Median: 182.5098419189453 \n",
      "Standard: 22.029772582781145\n"
     ]
    }
   ],
   "source": [
    "adj = df['Adj Close'].values\n",
    "mean = st.mean(adj)\n",
    "median = st.median(adj)\n",
    "std = st.stdev(adj)\n",
    "\n",
    "print(f\"Mean: {mean} \\nMedian: {median} \\nStandard: {std}\")\n"
   ]
  },
  {
   "cell_type": "code",
   "execution_count": 81,
   "metadata": {},
   "outputs": [
    {
     "data": {
      "text/plain": [
       "[<matplotlib.lines.Line2D at 0x238a463f790>]"
      ]
     },
     "execution_count": 81,
     "metadata": {},
     "output_type": "execute_result"
    },
    {
     "data": {
      "image/png": "[encoded data removed]",
      "text/plain": [
       "<Figure size 640x480 with 1 Axes>"
      ]
     },
     "metadata": {},
     "output_type": "display_data"
    }
   ],
   "source": [
    "plt.plot(df['Adj Close'])"
   ]
  },
  {
   "cell_type": "code",
   "execution_count": 1,
   "metadata": {},
   "outputs": [
    {
     "ename": "ConnectionError",
     "evalue": "ERR#0015: error 403, try again later.",
     "output_type": "error",
     "traceback": [
      "\u001b[1;31m---------------------------------------------------------------------------\u001b[0m",
      "\u001b[1;31mConnectionError\u001b[0m                           Traceback (most recent call last)",
      "Cell \u001b[1;32mIn[1], line 8\u001b[0m\n\u001b[0;32m      6\u001b[0m end  \u001b[39m=\u001b[39m dt\u001b[39m.\u001b[39mdatetime\u001b[39m.\u001b[39mnow()\u001b[39m.\u001b[39mstrftime(\u001b[39m\"\u001b[39m\u001b[39m%d\u001b[39;00m\u001b[39m/\u001b[39m\u001b[39m%\u001b[39m\u001b[39mm/\u001b[39m\u001b[39m%\u001b[39m\u001b[39mY\u001b[39m\u001b[39m\"\u001b[39m)\n\u001b[0;32m      7\u001b[0m company \u001b[39m=\u001b[39m \u001b[39m\"\u001b[39m\u001b[39mCTG\u001b[39m\u001b[39m\"\u001b[39m\n\u001b[1;32m----> 8\u001b[0m CTG \u001b[39m=\u001b[39m investpy\u001b[39m.\u001b[39;49mget_stock_historical_data(stock\u001b[39m=\u001b[39;49m company, country\u001b[39m=\u001b[39;49m \u001b[39m'\u001b[39;49m\u001b[39mvietnam\u001b[39;49m\u001b[39m'\u001b[39;49m, from_date \u001b[39m=\u001b[39;49m start, to_date \u001b[39m=\u001b[39;49m end)              \n\u001b[0;32m      9\u001b[0m CTG\u001b[39m.\u001b[39mhead()\n",
      "File \u001b[1;32mc:\\Users\\hoang\\AppData\\Local\\Programs\\Python\\Python310\\lib\\site-packages\\investpy\\stocks.py:664\u001b[0m, in \u001b[0;36mget_stock_historical_data\u001b[1;34m(stock, country, from_date, to_date, as_json, order, interval)\u001b[0m\n\u001b[0;32m    661\u001b[0m req \u001b[39m=\u001b[39m requests\u001b[39m.\u001b[39mpost(url, headers\u001b[39m=\u001b[39mhead, data\u001b[39m=\u001b[39mparams)\n\u001b[0;32m    663\u001b[0m \u001b[39mif\u001b[39;00m req\u001b[39m.\u001b[39mstatus_code \u001b[39m!=\u001b[39m \u001b[39m200\u001b[39m:\n\u001b[1;32m--> 664\u001b[0m     \u001b[39mraise\u001b[39;00m \u001b[39mConnectionError\u001b[39;00m(\n\u001b[0;32m    665\u001b[0m         \u001b[39m\"\u001b[39m\u001b[39mERR#0015: error \u001b[39m\u001b[39m\"\u001b[39m \u001b[39m+\u001b[39m \u001b[39mstr\u001b[39m(req\u001b[39m.\u001b[39mstatus_code) \u001b[39m+\u001b[39m \u001b[39m\"\u001b[39m\u001b[39m, try again later.\u001b[39m\u001b[39m\"\u001b[39m\n\u001b[0;32m    666\u001b[0m     )\n\u001b[0;32m    668\u001b[0m \u001b[39mif\u001b[39;00m \u001b[39mnot\u001b[39;00m req\u001b[39m.\u001b[39mtext:\n\u001b[0;32m    669\u001b[0m     \u001b[39mcontinue\u001b[39;00m\n",
      "\u001b[1;31mConnectionError\u001b[0m: ERR#0015: error 403, try again later."
     ]
    }
   ],
   "source": [
    "import pandas as pd\n",
    "import numpy as np\n",
    "import datetime as dt\n",
    "import investpy\n",
    "start = \"01/01/2020\"\n",
    "end  = dt.datetime.now().strftime(\"%d/%m/%Y\")\n",
    "company = \"CTG\"\n",
    "CTG = investpy.get_stock_historical_data(stock= company, country= 'vietnam', from_date = start, to_date = end)              \n",
    "CTG.head()\n"
   ]
  },
  {
   "cell_type": "code",
   "execution_count": 91,
   "metadata": {},
   "outputs": [
    {
     "name": "stdout",
     "output_type": "stream",
     "text": [
      "<Response [200]>\n",
      "<!DOCTYPE html PUBLIC \"-//W3C//DTD XHTML 1.0 Transitional//EN\" \"http://www.w3.org/TR/xhtml1/DTD/xhtml1-transitional.dtd\">\n",
      "\n",
      "<html xmlns=\"http://www.w3.org/1999/xhtml\">\n",
      "<head>\n",
      "<meta content=\"text/html; charset=utf-8\" http-equiv=\"Content-Type\"/>\n",
      "<meta content=\"index,all\" name=\"Robots\"/>\n",
      "<meta content=\"MOqJliEGOjPuN6S6rRC_ivdy9sgJpQ_K0Sads9VpcTQ\" name=\"google-site-verification\"/>\n",
      "<title>Dữ liệu giao dịch chứng khoán hàng ngày HOSE &amp; HNX</title>\n",
      "<meta content=\"bang gia, chung khoan, co phieu, hose, hnx, index, vnindex, hastc, hose insex, hnx index, bang dien, giao dich, thoa thuan, giao dich thoa thuan, bang dien tu, bang giao dich, giao dich truc tuyen, truc tuyen, bang giao dich chung khoan, bang giao dich truc tuyen, giao dich co phieu, giao dich chung khoan, bảng điện, bảng điện tử, bảng giao dịch, giao dịch chứng khoán, chứng khoán việt nam, chung khoan viet nam, du mua, du ban, nuoc ngoai so huu, nuoc ngoai mua ban, mo cua, dong cua, cao nhat, thap nhat, gia tham chieu, gia khop\" name=\"keywords\"/>\n",
      "<meta content=\"Dữ liệu giao dịch chứng khoán hàng ngày HOSE &amp; HNX\" name=\"description\"/>\n",
      "<link href=\"https://www.cophieu68.vn/css/screen.css?1671953035\" media=\"screen\" rel=\"stylesheet\" type=\"text/css\"/>\n",
      "<link href=\"https://www.cophieu68.vn/css/font-awesome.min.css\" media=\"screen\" rel=\"stylesheet\" type=\"text/css\"/>\n",
      "<link href=\"https://www.cophieu68.vn/css/screen_new.css?1671953035\" media=\"screen\" rel=\"stylesheet\" type=\"text/css\"/>\n",
      "<link href=\"https://www.cophieu68.vn/css/fontawesome/css/solid.min.css\" media=\"screen\" rel=\"stylesheet\" type=\"text/css\"/>\n",
      "<!--link href=\"https://www.cophieu68.vn/css/dropdowntabs.css\" rel=\"stylesheet\" type=\"text/css\" media=\"screen\" /-->\n",
      "<script src=\"https://www.cophieu68.vn/js/jquery.min.js\" type=\"text/javascript\"></script>\n",
      "<script src=\"https://www.cophieu68.vn/js/jquery/jquery-ui/jquery-ui.js\" type=\"text/javascript\"></script>\n",
      "<link href=\"https://www.cophieu68.vn/js/jquery/jquery-ui/jquery-ui.css\" rel=\"stylesheet\"/>\n",
      "<link href=\"https://www.cophieu68.vn/js/require.js\" rel=\"stylesheet\"/>\n",
      "<script src=\"https://www.cophieu68.vn/js/common.js\" type=\"text/javascript\"></script>\n",
      "<script src=\"https://www.cophieu68.vn/js/dropdowntabs.js\" type=\"text/javascript\"></script>\n",
      "<script language=\"javascript\" src=\"https://www.cophieu68.vn/js/jquery/jquery.colorbox.js\"></script>\n",
      "<link href=\"https://www.cophieu68.vn/js/jquery/colorbox.css\" rel=\"stylesheet\"/>\n",
      "<link href=\"https://www.cophieu68.vn/js/jquery/jquery-ui/jquery-ui.css\" rel=\"stylesheet\"/>\n",
      "<script src=\"https://www.cophieu68.vn/js/jquery/jquery.nice-select.min.js\"></script>\n",
      "<link href=\"https://www.cophieu68.vn/js/jquery/nice-select.css\" rel=\"stylesheet\"/>\n",
      "<script type=\"text/javascript\">\n",
      "/*\n",
      "$(document).ready(function() {\n",
      "  $('select').niceSelect();\n",
      "});\n",
      "\n",
      "jQuery(document).ready(function(){\n",
      "  $(document).bind('cbox_open', function() {\n",
      "      $('html').css({ overflow: 'hidden' });\n",
      "  }).bind('cbox_closed', function() {\n",
      "      $('html').css({ overflow: '' });\n",
      "  });\n",
      "});*/\n",
      "</script>\n",
      "<script type=\"text/javascript\">\n",
      "    document.addEventListener(\"touchstart\", function() {},false);\n",
      "</script>\n",
      "<script type=\"text/javascript\">\n",
      "setCookie('cp68screenwidth', screen.width, 30);\n",
      "///\n",
      "setCookie('cp68screenheight', document.documentElement.clientHeight, 30);\n",
      "///\n",
      "var WEBROOT = 'https://www.cophieu68.vn';\n",
      "var PATH_IMAGE = 'https://www.cophieu68.vn/images';\n",
      "</script>\n",
      "<script type=\"text/javascript\">\n",
      "  (function(i,s,o,g,r,a,m){i['GoogleAnalyticsObject']=r;i[r]=i[r]||function(){\n",
      "  (i[r].q=i[r].q||[]).push(arguments)},i[r].l=1*new Date();a=s.createElement(o),\n",
      "  m=s.getElementsByTagName(o)[0];a.async=1;a.src=g;m.parentNode.insertBefore(a,m)\n",
      "  })(window,document,'script','//www.google-analytics.com/analytics.js','ga');\n",
      "\n",
      "  ga('create', 'UA-2311891-1', 'auto');\n",
      "  ga('send', 'pageview');\n",
      "</script>\n",
      "<script async=\"\" src=\"//pagead2.googlesyndication.com/pagead/js/adsbygoogle.js\"></script>\n",
      "<script type=\"text/javascript\">\n",
      "     (adsbygoogle = window.adsbygoogle || []).push({\n",
      "          google_ad_client: \"ca-pub-4497614833474292\",\n",
      "          enable_page_level_ads: true\n",
      "     });\n",
      "</script>\n",
      "<script src=\"//increaserev.com/ads/dfpres/mcm.js\"></script>\n",
      "<script> var IR_Tag=\"c\";</script>\n",
      "</head>\n",
      "<body style=\"margin:0; padding:0; margin-top:0px; width: 100%;\">\n",
      "<!-- begin header 970-->\n",
      "<script src=\"https://www.cophieu68.vn/datax123456/companylist.js\" type=\"text/javascript\"></script>\n",
      "<script src=\"https://www.cophieu68.vn/js/jquery/jquery.autocomplete.js\" type=\"text/javascript\"></script>\n",
      "<link href=\"https://www.cophieu68.vn/js/jquery/jquery.autocomplete.css\" rel=\"stylesheet\"/>\n",
      "<script type=\"text/javascript\">\n",
      "$().ready(function() {\n",
      "\t$(\"#id\").autocomplete(companyinfo, {\n",
      "\t\tminChars: 1,\n",
      "\t\twidth: 310,\n",
      "\t\tmatchContains: \"\", //word\n",
      "\t\tautoFill: false,\n",
      "\t\tscroll: false,\n",
      "\t\tformatItem: function(row, i, max) {\n",
      "\t\t\treturn  row.stockname + \" - \" + row.companyname + \"\";\n",
      "\t\t},\n",
      "\t\tformatMatch: function(row, i, max) {\n",
      "\t\t\treturn row.stockname + \" \" + row.companyname;\n",
      "\t\t\t//return row.stockname;\n",
      "\t\t},\n",
      "\t\tformatResult: function(row) {\n",
      "\t\t\treturn row.stockname;\n",
      "\t\t}\n",
      "\t}).result(function(event, data, formatted) { // result is a separate function\n",
      "\t\t$('#id').val(data.stockname);\n",
      "\t\tdocument.frm_search_s.submit();\n",
      "\t});\n",
      "});\n",
      "</script>\n",
      "<div id=\"menu_overtop\" style=\"position: fixed; top: 5px; right: 5px; z-index: 1; opacity: 0.9\">\n",
      "<a href=\"javascript:void(0)\" onclick=\"$('#menu_overtop_list').show();\" style=\"color:#666\"><i class=\"fa fa-list-ul fa-2x\"></i></a>\n",
      "<div class=\"div_curve div_curve_autohide\" id=\"menu_overtop_list\" style=\"display: none; position: fixed; top: 5px; right: 1px; z-index: 1; width: 200px\">\n",
      "<div onclick=\"$('#menu_overtop_list').hide()\" style=\"position: absolute; top:0; right:0; padding:0px 3px; font-weight: bold; cursor: pointer;\">\n",
      "<i class=\"fa fa-times fa-2x\" style=\"color:#ff0000\" title=\"Đóng\"></i>\n",
      "</div>\n",
      "<ul class=\"ul_list_item\" style=\"margin-top:0px\">\n",
      "<li><a href=\"https://www.cophieu68.vn/index.php\"><i class=\"fa fa-home fa-lg\"></i>   Trang chủ</a></li>\n",
      "<li><a href=\"https://www.cophieu68.vn/stockonline.php\"><i class=\"fa fa-list-alt fa-lg\"></i>   Bảng giao dịch trực tuyến</a></li>\n",
      "<li><a href=\"https://www.cophieu68.vn/chartsymbol_basic.php?id=^vnindex\"><i class=\"fa fa-line-chart fa-lg\"></i>   Biểu đồ phân tích kỹ thuật</a></li>\n",
      "<li style=\"padding:0; border-top:2px solid #999\"></li>\n",
      "<li><a href=\"https://www.cophieu68.vn/investment_basic_indexes.php\"><i class=\"fa fa-star-half-o fa-lg\"></i>   Sức mạnh chỉ số cơ bản</a></li>\n",
      "<li><a href=\"https://www.cophieu68.vn/company_financial.php\"><i class=\"fa fa-balance-scale fa-lg\"></i>   So sánh báo cáo tài chính</a></li>\n",
      "<li><a href=\"https://www.cophieu68.vn/market_vn.php\"><i class=\"fa fa-percent fa-lg\"></i>   Chỉ số thị trường</a></li>\n",
      "<li><a href=\"https://www.cophieu68.vn/events.php\"><i class=\"fa fa-calendar fa-lg\"></i>   Cổ tức - Lịch sự kiện</a></li>\n",
      "<li style=\"padding:0; border-top:2px solid #999\"></li>\n",
      "<li><a href=\"https://www.cophieu68.vn/advanced_statistic.php\"><i class=\"fa fa-tachometer fa-lg\"></i>   Thống kê nâng cao</a></li>\n",
      "<li><a href=\"https://www.cophieu68.vn/plan_income.php\"><i class=\"fa fa-money fa-lg\"></i>   Kế hoạch kinh doanh</a></li>\n",
      "<li><a href=\"https://www.cophieu68.vn/atbottom.php\"><i class=\"fa fa-hourglass-end fa-lg\"></i>   Đáy cổ phiếu</a></li>\n",
      "<li><a href=\"https://www.cophieu68.vn/signal_volume.php\"><i class=\"fa fa-sort-numeric-asc fa-lg\"></i>   Đột biến khối lượng</a></li>\n",
      "</ul>\n",
      "</div>\n",
      "</div>\n",
      "<div id=\"header_overtop\" style=\"width:100%;background-color: #fff; color:#333; border-bottom:0px solid #000\">\n",
      "<div style=\"width:100%; float:left\">\n",
      "<div style=\"float: left; width: 150px\">\n",
      "<a href=\"https://www.cophieu68.vn/index.php\"><img border=\"0\" src=\"https://www.cophieu68.vn/images/logo_wap.gif\"/></a>\n",
      "</div>\n",
      "<div style=\"float:right; padding-right: 25px; width:170px;  position:relative; border: 0px solid #ff0000\">\n",
      "<div style=\"float:left; padding-left:0px; margin-top:2px; color:#666; position:absolute;\">\n",
      "<div style=\"clear:both; padding-top:3px\"></div>\n",
      "<form action=\"https://www.cophieu68.vn/snapshot.php\" method=\"get\" name=\"frm_search_s\" style=\"margin:0; padding:0\">\n",
      "<span>Mã CK</span>\n",
      "<input class=\"textbox_dark\" id=\"id\" name=\"id\" placeholder=\"Mã CK\" style=\"width:80px; border: 1px solid #2A8BCC; text-transform: uppercase; font-weight: bold\" type=\"text\" value=\"\"/>\n",
      "                 \n",
      "                <a href=\"javascript:void(0)\" onclick=\"$(this).closest('form').submit();\"><i class=\"fa fa-search fa-lg\"></i></a>\n",
      "<!--input type=\"image\" src=\"https://www.cophieu68.vn/images/icons/search.png\" value=\"Go\" /-->\n",
      "<input style=\"visibility: hidden;\" type=\"submit\"/>\n",
      "</form>\n",
      "</div>\n",
      "<br clear=\"all\"/>\n",
      "</div>\n",
      "<div style=\"float:right; width:300px;  position:relative; border: 0px solid #ff0000; position: relative; \">\n",
      "<div style=\"; margin-top:10px;\">\n",
      "<a href=\"javascript:void(0)\" onclick=\"checkFormLoginInline();\"><i class=\"fa fa-sign-in fa-lg\"></i> Đăng nhập</a>     \n",
      "                        <a href=\"https://www.cophieu68.vn/account/signup.php\"><i class=\"fa fa-user-plus fa-lg\"></i> Đăng ký</a>     \n",
      "                        <a href=\"javascript:void(0)\" onclick=\"checkFormLoginInline(); alert('Hệ thống cảnh báo cần bạn phải đăng nhập tài khoản cá nhân.\\nBạn sẽ nhận được thông tin cảnh báo qua Email hoặc Điện thoại di động ngay trong giờ giao dịch.');\" style=\"color:#ff0000;\"><i class=\"fa fa-exclamation-triangle fa-lg\"></i> Cảnh Báo</a>\n",
      "</div>\n",
      "</div>\n",
      "<div style=\"float:right; width:330px; border: 0px solid #ff0000; display:none\">\n",
      "<div id=\"info_account_coin\" style=\"; margin-top:10px;\">\n",
      "<a href=\"javascript:void(0)\" id=\"a_top_account\" onclick=\"showFunctionUserInfo('account');\"><i class=\"fa fa-user fa-lg\"></i> </a>     \n",
      "                            <a href=\"javascript:void(0)\" id=\"a_top_coin\" onclick=\"showFunctionUserInfo('coin');\"><i class=\"fa fa-money fa-lg\"></i> 0 cp68</a>     \n",
      "                            <a href=\"javascript:void(0)\" id=\"a_top_alert\" onclick=\"showFunctionUserInfo('alert');\" style=\"color:#ff0000;\"><i class=\"fa fa-exclamation-triangle fa-lg\"></i> Cảnh Báo</a>\n",
      "</div>\n",
      "<div class=\"div_curve\" id=\"account_info_list\" style=\"display:none; width: 200px; position: absolute; z-index: 1000000;\">\n",
      "<ul class=\"ul_list_item\" style=\"\">\n",
      "<li><a href=\"https://www.cophieu68.vn/account/info.php\"><i class=\"fa fa-user fa-lg\"></i>   Thông Tin Tài Khoản</a></li>\n",
      "<li><a href=\"https://www.cophieu68.vn/account/info.php#changepassword\"><i class=\"fa fa-recycle fa-lg\"></i>   Đổi Mật Khẩu</a></li>\n",
      "<li><a href=\"https://www.cophieu68.vn/account/logout.php\"><i class=\"fa fa-sign-out fa-lg\"></i>   Đăng Xuất</a></li>\n",
      "</ul>\n",
      "</div>\n",
      "<div class=\"div_curve\" id=\"coin_info_list\" style=\"display:none; width: 230px; position: absolute; z-index: 1000000;\">\n",
      "<ul class=\"ul_list_item\">\n",
      "<li><a href=\"https://www.cophieu68.vn/account/coin_charging.php\">1/ Nạp Tiền Vào Tài Khoản</a></li>\n",
      "<li><a href=\"https://www.cophieu68.vn/account/coin_payment.php\">2/ Thanh Toán Phí Sử Dụng</a></li>\n",
      "<li><a href=\"https://www.cophieu68.vn/account/coin_history.php\">3/ Lịch Sử Nạp Tiền &amp; Thanh Toán</a></li>\n",
      "<li><a href=\"https://www.cophieu68.vn/account/coin_sms_received.php\">4/ Cảnh Báo SMS Đã Nhận</a></li>\n",
      "</ul>\n",
      "</div>\n",
      "<div class=\"div_curve\" id=\"account_alert\" style=\"display:none; width: 230px; position: absolute; z-index: 1000000;\">\n",
      "<ul class=\"ul_list_item\">\n",
      "<li><a href=\"https://www.cophieu68.vn/account/alert_price.php\"><i class=\"fa fa-exclamation-triangle fa-lg\"></i>   Cảnh báo GIÁ</a></li>\n",
      "<li><a href=\"https://www.cophieu68.vn/account/alert_atbottom.php\"><i class=\"fa fa-exclamation-triangle fa-lg\"></i>   Cảnh báo Đáy Cổ Phiếu</a></li>\n",
      "<li><a href=\"https://www.cophieu68.vn/account/alert_volume.php\"><i class=\"fa fa-exclamation-triangle fa-lg\"></i>   Cảnh báo Đột Biến Khối Lượng</a></li>\n",
      "<li><a href=\"https://www.cophieu68.vn/chartsymbol_basic.php?id=^vnindex&amp;filterchart=1\"><i class=\"fa fa-exclamation-triangle fa-lg\"></i>   Cảnh báo Tín Hiệu Biểu Đồ</a></li>\n",
      "</ul>\n",
      "</div>\n",
      "</div>\n",
      "<div style=\"float: right; width: 280px; margin-top:10px; border: 0px solid #000\">\n",
      "<a href=\"https://www.cophieu68.vn/contact.php\"><i class=\"fa fa-phone fa-lg\"></i> Liên Hệ</a>    \n",
      "            <a href=\"https://m.cophieu68.vn/index.php\"><i class=\"fa fa-mobile fa-lg\"></i> SmartPhone</a>    \n",
      "\t\t\t                                                <a href=\"?&amp;lang=en\"><i class=\"fa fa-language fa-lg\"></i>   ENGLISH</a>\n",
      "</div>\n",
      "<div style=\"float: right; width: 180px; margin-top:5px; \">\n",
      "</div>\n",
      "</div>\n",
      "<br clear=\"all\"/>\n",
      "</div>\n",
      "<div id=\"fb-root\"></div>\n",
      "<script type=\"text/javascript\">\n",
      "function getPositionFromID(sid){\n",
      "\tvar obj = $(\"#\"+sid).offset(); // offet of page, position of div\n",
      "\treturn obj;\n",
      "}\n",
      "function setPositionFromID(sid, Opos){\n",
      "\t$(\"#\"+sid).css({top: Opos.top, left: Opos.left});\n",
      "}\n",
      "function showFunctionUserInfo(type){\n",
      "    $(\".div_curve\").hide();\n",
      "\n",
      "\tvar Opos = getPositionFromID(\"a_top_\"+type);\n",
      "\tOpos.top = Opos.top + 20;\n",
      "\n",
      "    if( type == \"account\" ){\n",
      "        if( $('#account_info_list').css('display') == 'none' ){\n",
      "\t\t\tsetPositionFromID('account_info_list', Opos);\n",
      "            $('#account_info_list').show();\n",
      "        }\n",
      "        else{\n",
      "            $('#account_info_list').hide();\n",
      "        }\n",
      "    }\n",
      "    else if( type == \"alert\" ){\n",
      "        if( $('#account_alert').css('display') == 'none' ){\n",
      "\t\t\tsetPositionFromID('account_alert', Opos);\n",
      "            $('#account_alert').show();\n",
      "        }\n",
      "        else{\n",
      "            $('#account_alert').hide();\n",
      "        }\n",
      "    }\n",
      "    else if( type == \"coin\" ){\n",
      "        if( $('#coin_info_list').css('display') == 'none' ){\n",
      "\t\t\tsetPositionFromID('coin_info_list', Opos);\n",
      "            $('#coin_info_list').show();\n",
      "        }\n",
      "        else{\n",
      "            $('#coin_info_list').hide();\n",
      "        }\n",
      "    }\n",
      "}\n",
      "$(document).click(function(event) {\n",
      "    if( !$(event.target).closest('#menu_overtop').length && !$(event.target).closest('#info_account_coin').length && !$(event.target).closest('#account_info_list').length  && !$(event.target).closest('#account_alert').length  && !$(event.target).closest('#coin_info_list').length) {\n",
      "        if($('#account_info_list').is(\":visible\")) {\n",
      "            $('#account_info_list').hide()\n",
      "        }\n",
      "        if($('#account_alert').is(\":visible\")) {\n",
      "            $('#account_alert').hide()\n",
      "        }\n",
      "        if($('#coin_info_list').is(\":visible\")) {\n",
      "            $('#coin_info_list').hide()\n",
      "        }\n",
      "        if($('#menu_overtop_list').is(\":visible\")) {\n",
      "            $('#menu_overtop_list').hide()\n",
      "        }\n",
      "    }\n",
      "})\n",
      "</script>\n",
      "<script type=\"text/javascript\">\n",
      "var has_login = 0;\n",
      "var __login_reload = 1;\n",
      "function checkFormLoginInline(){\n",
      "    if( !has_login ){\n",
      "        $.colorbox({inline:true, width:'100%', height:'100%', overlayClose:false, fixed: true, href:'#div_form_login'});\n",
      "        return false;\n",
      "    }\n",
      "}\n",
      "</script>\n",
      "<div style=\"display: none; \">\n",
      "<div id=\"div_form_login\">\n",
      "<div>\n",
      "<form action=\"https://www.cophieu68.vn/account/login.php\" method=\"post\" name=\"frmlogin\" onsubmit=\"return checkFormLogin()\">\n",
      "<table cellpadding=\"4\" cellspacing=\"0\" width=\"100%\">\n",
      "<tr>\n",
      "<td><strong style=\"color:#006699;\">THÔNG TIN ĐĂNG NHẬP</strong></td>\n",
      "</tr>\n",
      "<tr id=\"tr_error_login\" style=\"display: none\"><td class=\"text_error\" style=\"color:#ff0000\">Sai Email/Mật khẩu. Vui lòng kiểm tra lại.</td></tr>\n",
      "<tr id=\"tr_error_login_phone\" style=\"display: none\"><td class=\"text_error\" style=\"color:#ff0000\">\n",
      "                                        Số điện thoại bạn đang đăng nhập chưa được KÍCH HOẠT tại hệ thống COPHIEU68\n",
      "                                        Để KÍCH HOẠT số điện thoại bằng cách\n",
      "                                        Nhắn tin theo cú pháp CP68 gửi 8188\n",
      "                                    </td></tr>\n",
      "<tr>\n",
      "<td align=\"left\">\n",
      "<span class=\"required\">*</span> Email hoặc điện thoại:\n",
      "                                            <br/>\n",
      "<input class=\"textbox\" name=\"username\" style=\"width:250px\" type=\"text\" value=\"\"/>\n",
      "</td>\n",
      "</tr>\n",
      "<tr>\n",
      "<td align=\"left\">\n",
      "<span class=\"required\">*</span> Mật khẩu:\n",
      "\t\t\t\t\t<br/>\n",
      "<input class=\"textbox\" name=\"tpassword\" style=\"width:250px\" type=\"password\" value=\"\"/>\n",
      "</td>\n",
      "</tr>\n",
      "<tr>\n",
      "<td>\n",
      "<br/>\n",
      "<!--input type=\"submit\" name=\"login\" value=\"ĐĂNG NHẬP\" class=\"b_button b_blue\" /-->\n",
      "<a class=\"b_button b_blue\" href=\"javascript:void(0)\" onclick=\"checkFormLogin();\"><i class=\"fa fa-sign-in fa-lg\"></i> Đăng nhập</a>\n",
      "\t\t\t\t\t\t \n",
      "                                                <a class=\"b_button b_yellow\" href=\"javascript:void(0)\" onclick=\"parent.location.href='https://www.cophieu68.vn/account/signup.php'\"><i class=\"fa fa-user-plus\"></i> Tạo tài khoản</a>\n",
      "                                                 \n",
      "                                                <a class=\"b_button b_red\" href=\"javascript:void(0)\" onclick=\"parent.location.href='https://www.cophieu68.vn/account/forgetpassword.php'\"><i class=\"fa fa-refresh\"></i> Quên mật khẩu</a>\n",
      "</td>\n",
      "</tr>\n",
      "</table>\n",
      "<br/>\n",
      "<a href=\"https://www.cophieu68.vn/account/login.php\" style=\"color:#999\"><em>&gt; Không Đăng nhập được nhấn vào đây!!!</em></a>\n",
      "<input name=\"ajax\" type=\"hidden\" value=\"\"/>\n",
      "<input style=\"visibility: hidden;\" type=\"submit\"/>\n",
      "</form>\n",
      "</div>\n",
      "</div>\n",
      "</div>\n",
      "<script>\n",
      "\tvar fl = document.frmlogin;\n",
      "\tfunction checkFormLogin(){\n",
      "\t\tif( fl.username.value == \"\" || fl.username.value == \"\" ){\n",
      "\t\t\t$(\"#tr_error_login\").show();\n",
      "\t\t\tfl.username.focus();\n",
      "\t\t\treturn false;\n",
      "\t\t}\n",
      "\t\telse{\n",
      "\t\t\t$.ajax({\n",
      "\t\t\t\ttype: 'POST',\n",
      "\t\t\t\turl: 'https://www.cophieu68.vn/account/login.php',\n",
      "\t\t\t\tdata:{\n",
      "\t\t\t\t\t'username':fl.username.value,\n",
      "\t\t\t\t\t'tpassword':fl.tpassword.value,\n",
      "\t\t\t\t\t'ajax':1,\n",
      "\t\t\t\t\t'login':1\n",
      "\t\t\t\t},\n",
      "\t\t\t\tsuccess: function(s_obj){\n",
      "\t\t\t\t\tif( s_obj == '0' ){\n",
      "                                            $(\"#tr_error_login\").show();\n",
      "\t\t\t\t\t}\n",
      "                                        else if( s_obj == '2' ){\n",
      "                                            $(\"#tr_error_login_phone\").show();\n",
      "\t\t\t\t\t}\n",
      "\t\t\t\t\telse if( s_obj == '1' ){\n",
      "                                            if( __login_reload == 1 ){\n",
      "                                                window.location.reload();\n",
      "                                            }\n",
      "                                            $('#div_form_login').colorbox.close();\n",
      "                                            has_login = 1;\n",
      "\t\t\t\t\t}\n",
      "                                        else if( s_obj == '3' ){\n",
      "                                                window.location = 'https://www.cophieu68.vn/account/account_active.php';\n",
      "                                        }\n",
      "\t\t\t\t}\n",
      "\t\t\t});\n",
      "\t\t}\n",
      "\n",
      "\t\treturn false;\n",
      "\t}\n",
      "</script>\n",
      "<div style=\"width:100%; margin: left\">\n",
      "<div id=\"navcontainer\" style=\"width:100%; height:30px; clear:both\">\n",
      "<div style=\"width:980px; margin:left; margin-left: 10px\">\n",
      "<div style=\"position:relative;\">\n",
      "<div>\n",
      "<div style=\"float:left\">\n",
      "<ul id=\"navlist\" style=\"text-transform:uppercase\">\n",
      "<!--li style=\"margin-right:-5px; margin-left:5px\"><a href=\"https://www.cophieu68.vn\" style=\"padding:0; margin:0\"><img src=\"https://www.cophieu68.vn/images/home_icon.png\" border=\"0\" alt=\"Trang chủ\" /></a></li-->\n",
      "<li><a class=\"a_menu\" href=\"https://www.cophieu68.vn/\" rel=\"dropmenu0\">Thống Kê</a></li>\n",
      "<li><a class=\"a_menu\" href=\"https://www.cophieu68.vn/companylist.php\" rel=\"dropmenu1\">Công Ty Niêm Yết</a></li>\n",
      "<li><a class=\"a_menu\" href=\"https://www.cophieu68.vn/filter_index.php\" rel=\"dropmenu4\">Bộ Lọc</a></li>\n",
      "<li><a class=\"a_menu\" href=\"https://www.cophieu68.vn/charts.php\" rel=\"dropmenu5\">Biểu Đồ</a></li>\n",
      "<li><a class=\"a_menu_current\" href=\"https://www.cophieu68.vn/stats_market_size.php\" rel=\"dropmenu3\">Chỉ Số Thị Trường</a></li>\n",
      "<li><a class=\"a_menu\" href=\"https://www.cophieu68.vn/categorylist.php\" rel=\"dropmenu8\">Nhóm Ngành</a></li>\n",
      "<li><a class=\"a_menu\" href=\"https://www.cophieu68.vn/export.php\">Dịch vụ Dữ Liệu</a></li>\n",
      "<li><a class=\"a_menu\" href=\"https://www.cophieu68.vn/documents.php\" rel=\"dropmenu11\">Tài Liệu</a></li>\n",
      "<li><a class=\"a_menu\" href=\"https://www.cophieu68.vn/account/login.php\" rel=\"dropmenu15\">Danh Mục Đầu Tư</a></li>\n",
      "</ul>\n",
      "</div>\n",
      "</div>\n",
      "</div>\n",
      "</div>\n",
      "</div>\n",
      "<div id=\"navcontainer_sub\" style=\"width:100%; height:30px;clear:both\">\n",
      "<div style=\"width:980px; margin:left; margin-left: 0px\">\n",
      "<ul id=\"navlist_sub\" style=\"padding-top:0px\">\n",
      "<li><a class=\"a_menu_sub\" href=\"/stats_market_size.php\" title=\"Quy Mô Thị Trường\">Quy Mô Thị Trường </a></li><li><a class=\"a_menu_sub\" href=\"/market_vn.php\" title=\"Chỉ Số Thị Trường\">Chỉ Số Thị Trường </a></li><li><a class=\"a_menu_sub\" href=\"/market_category.php\" title=\"Chỉ Số Ngành\">Chỉ Số Ngành </a></li><li><span>Dữ Liện Hàng Ngày</span></li> </ul>\n",
      "</div>\n",
      "</div>\n",
      "<div class=\"dropmenudiv_a\" id=\"dropmenu0\" style=\"width:260px\">\n",
      "<a href=\"https://www.cophieu68.vn/advanced_statistic.php\">Thống Kê Nâng Cao</a>\n",
      "<!--a href=\"https://www.cophieu68.vn/finance_statistic.php\">Tăng Trưởng Tài Chính</a-->\n",
      "<a href=\"https://www.cophieu68.vn/plan_income.php\">Kế Hoạch Kinh Doanh</a>\n",
      "<a href=\"https://www.cophieu68.vn/bookprice.php\">Giá Sổ Sách</a>\n",
      "<a href=\"https://www.cophieu68.vn/atbottom.php\"><strong>Đáy Cổ Phiếu</strong></a>\n",
      "<a href=\"https://www.cophieu68.vn/signal_volume.php\">Đột Biến Khối Lượng</a>\n",
      "<a href=\"https://www.cophieu68.vn/stats_volume_price.php\">Tương Quan Giữa Khối Lượng và Giá</a>\n",
      "<a href=\"https://www.cophieu68.vn/stats_group_price.php\">Biểu Đồ Phân Hóa Giá</a>\n",
      "<a href=\"https://www.cophieu68.vn/stats_foreigner.php\">Giao dịch nước ngoài</a>\n",
      "</div>\n",
      "<div class=\"dropmenudiv_a\" id=\"dropmenu1\" style=\"width:260px\">\n",
      "<a href=\"https://www.cophieu68.vn/companylist.php\">Danh Sách Công Ty Niêm Yết</a>\n",
      "<a href=\"https://www.cophieu68.vn/companylist2.php\">Chỉ Số Tài Chính Cơ Bản</a>\n",
      "<a href=\"https://www.cophieu68.vn/companylist_warranty.php\">Danh sách chứng quyền niêm yết</a>\n",
      "<a href=\"https://www.cophieu68.vn/investment_basic_indexes.php\">Sức Mạnh Chỉ Số Cơ Bản</a>\n",
      "<a href=\"https://www.cophieu68.vn/company_financial.php\">SO SÁNH BÁO CÁO TÀI CHÍNH</a>\n",
      "<a href=\"https://www.cophieu68.vn/companylist3.php\">Cơ Cấu Cổ Đông</a>\n",
      "<a href=\"https://www.cophieu68.vn/companylist4.php\">Giao Dịch Nội Bộ</a>\n",
      "<a href=\"https://www.cophieu68.vn/events.php\">Lịch Sự Kiện</a>\n",
      "<a href=\"https://www.cophieu68.vn/event_other.php\">Sự Kiện Đặc Biệt</a>\n",
      "</div>\n",
      "<div class=\"dropmenudiv_a\" id=\"dropmenu3\" style=\"width:220px\">\n",
      "<a href=\"https://www.cophieu68.vn/stats_market_size.php\">Quy Mô Thị Trường</a>\n",
      "<a href=\"https://www.cophieu68.vn/market_vn.php\">Chỉ Số Thị Trường</a>\n",
      "<a href=\"https://www.cophieu68.vn/market_category.php\">Chỉ Số Ngành</a>\n",
      "<a href=\"https://www.cophieu68.vn/stockdaily.php\">Dữ Liệu Hàng Ngày</a>\n",
      "<!--a href=\"https://www.cophieu68.vn/chartindex.php?stcid=1\">Biểu Đồ Thị Trường</a-->\n",
      "</div>\n",
      "<div class=\"dropmenudiv_a\" id=\"dropmenu4\" style=\"width:260px\">\n",
      "<!--a href=\"https://www.cophieu68.vn/filter.php\">Lọc Cổ Phiếu</a-->\n",
      "<a href=\"https://www.cophieu68.vn/filter_index.php\">Lọc Các Chỉ Số Tài Chính Cơ Bản</a>\n",
      "<a href=\"https://www.cophieu68.vn/filter_stock.php\">Sức Mạnh Chỉ Số Tài Chính</a>\n",
      "<a href=\"https://www.cophieu68.vn/chartsymbol_basic.php?id=^vnindex&amp;filterchart=1\">Lọc Tín Hiệu Biểu Đồ</a>\n",
      "<!--a href=\"https://www.cophieu68.vn/filter_reportchart.php\">Sức Mạnh Tín Hiệu Biểu Đồ</a-->\n",
      "</div>\n",
      "<div class=\"dropmenudiv_a\" id=\"dropmenu5\" style=\"width:200px\">\n",
      "<a href=\"https://www.cophieu68.vn/charts.php\">Tín Hiệu Biểu Đồ</a>\n",
      "<a href=\"https://www.cophieu68.vn/chartprice.php\">Biểu Đồ Giá</a>\n",
      "<a href=\"https://www.cophieu68.vn/chartprice_week.php\">BIỂU ĐỒ TUẦN</a>\n",
      "<a href=\"https://www.cophieu68.vn/chartprice_swings.php\">Swings Trading</a>\n",
      "<!--a href=\"https://www.cophieu68.vn/chartrsi.php\">Biểu Đồ RSI</a>\n",
      "\t\t<a href=\"https://www.cophieu68.vn/chartmacd.php\">Biểu Đồ MACD</a>\n",
      "\t\t<a href=\"https://www.cophieu68.vn/chartadx.php\">Biểu Đồ ADX</a>\n",
      "\t\t<a href=\"https://www.cophieu68.vn/chartstochastic.php\">Biểu Đồ STOCHASTIC</a>\n",
      "\t\t<a href=\"https://www.cophieu68.vn/chartmfi.php\">Biểu Đồ MFI</a>\n",
      "\t\t<a href=\"https://www.cophieu68.vn/chartcci.php\">Biểu Đồ CCI</a>\n",
      "\t\t<a href=\"https://www.cophieu68.vn/chartwilliam.php\">Biểu Đồ WILLIAM</a-->\n",
      "</div>\n",
      "<div class=\"dropmenudiv_a\" id=\"dropmenu8\">\n",
      "<a href=\"https://www.cophieu68.vn/categorylist.php\">Nhóm Ngành Và Các Chỉ Số Cơ Bản</a>\n",
      "<a href=\"https://www.cophieu68.vn/category_ib2.php\">Báo Cáo Tài Chính Theo Nhóm Ngành</a>\n",
      "<a href=\"https://www.cophieu68.vn/category_finance.php\">Tăng Trưởng Tài Chính Ngành</a>\n",
      "</div>\n",
      "<div class=\"dropmenudiv_a\" id=\"dropmenu7\">\n",
      "<a href=\"https://www.cophieu68.vn/news.php?catid=107\">Tin Chứng khoán</a>\n",
      "<a href=\"https://www.cophieu68.vn/news.php?catid=130\">Tin Kinh tế</a>\n",
      "<a href=\"https://www.cophieu68.vn/news.php?catid=127\">Tin Tài chính Ngân hàng</a>\n",
      "<a href=\"https://www.cophieu68.vn/news.php?catid=192\">Tin Doanh nghiệp</a>\n",
      "<a href=\"https://www.cophieu68.vn/news.php?catid=183\">Tin Bất động sản</a>\n",
      "<a href=\"https://www.cophieu68.vn/news.php?catid=200\">Tin Tài chính Thế giới</a>\n",
      "<a href=\"https://www.cophieu68.vn/news.php?catid=173\">Tin Doanh nhân</a>\n",
      "<a href=\"https://www.cophieu68.vn/news.php?catid=203\">Tin Vàng</a>\n",
      "<a href=\"https://www.cophieu68.vn/news.php?catid=201\">Tin Hàng hóa</a>\n",
      "<a href=\"https://www.cophieu68.vn/news.php?catid=202\">Tin tiền tệ</a>\n",
      "</div>\n",
      "<div class=\"dropmenudiv_a\" id=\"dropmenu11\" style=\"width:260px\">\n",
      "<a href=\"https://www.cophieu68.vn/document/indexes/eps.php\">Các Chỉ Số Chứng Khoán</a>\n",
      "<a href=\"https://www.cophieu68.vn/document/bollinger.php\">Các Tín Hiệu Biểu Đồ</a>\n",
      "<a href=\"https://www.cophieu68.vn/document/candlestick/CandlestickBasics.php\">Mô Hình Nến - Candlestick</a>\n",
      "</div>\n",
      "<div class=\"dropmenudiv_a\" id=\"dropmenu9\">\n",
      "<a class=\"menu_head\" href=\"https://www.cophieu68.vn/events.php\">Lịch Sự Kiện</a>\n",
      "<a class=\"menu_head\" href=\"https://www.cophieu68.vn/export.php\"></a>\n",
      "<a class=\"menu_head\" href=\"https://www.cophieu68.vn/document/meaning.php\"></a>\n",
      "<a class=\"menu_head\" href=\"https://www.cophieu68.vn/contact.php\"></a>\n",
      "</div>\n",
      "<div class=\"dropmenudiv_a\" id=\"dropmenu15\" style=\"width:195px\">\n",
      "<a href=\"https://www.cophieu68.vn/account/category.php\">Danh Mục Đầu Tư</a>\n",
      "<a href=\"https://www.cophieu68.vn/account/alert_price.php\">Cảnh Báo Giá</a>\n",
      "<a href=\"https://www.cophieu68.vn/account/alert_atbottom.php\">Cảnh Báo Đáy Cổ Phiếu</a>\n",
      "<a href=\"https://www.cophieu68.vn/account/alert_volume.php\">Cảnh Báo Đột Biến Khối Lượng</a>\n",
      "<a href=\"https://www.cophieu68.vn/chartsymbol_basic.php?id=^vnindex&amp;filterchart=1\">BỘ LỌC TÍN HIỆU BIỂU ĐỒ</a>\n",
      "<!--a href=\"https://www.cophieu68.vn/account/filter_reportchart.php\">Sức Mạnh Tín Hiệu Biểu Đồ</a-->\n",
      "<a href=\"https://www.cophieu68.vn/account/filter_index.php\">BỘ LỌC CHỈ SỐ CƠ BẢN</a>\n",
      "<a href=\"https://www.cophieu68.vn/account/filter_stock.php\">Sức Mạnh Chỉ Số Tài Chính</a>\n",
      "</div>\n",
      "<script type=\"text/javascript\">tabdropdown.init(\"navcontainer\", 0);</script>\n",
      "</div>\n",
      "<div style=\"clear:both; border-bottom: 0px solid #CCC; text-align: right; padding: 5px\">\n",
      "<a href=\"https://www.cophieu68.vn/account_vip.php\" style=\"text-decoration:underline\" target=\"_blank\"><i>Sử dụng tài khoản trả phí để bỏ Quảng Cáo và Sử dụng đường truyển riêng tốc độ tốt hơn.</i></a>\n",
      "</div>\n",
      "<!-- end header 970-->\n",
      "<!-- begin body 970-->\n",
      "<div id=\"begin_header\" style=\"width:970px; margin:left; border: 0px solid #ff0000; background-color:#FFF; padding-top:5px; padding-left: 1%; clear:both\">\n",
      "<div id=\"increase_mobile_auto\" style=\"width:100%; clear:both;\">\n",
      "<div class=\"increaserev mcm970x250\"></div>\n",
      "<script>ir_ads_push();</script>\n",
      "</div>\n",
      "<div style=\"clear: both;\"> </div>\n",
      "<script src=\"https://www.cophieu68.vn/js/company.js\" type=\"text/javascript\"></script>\n",
      "<script src=\"https://www.cophieu68.vn/js/calendar.js\" type=\"text/javascript\"></script>\n",
      "<div id=\"titlepage\"><h1>Dữ Liệu Hàng Ngày 1</h1></div>\n",
      "<table cellpadding=\"0\" cellspacing=\"0\" width=\"780\">\n",
      "<tr>\n",
      "<td>\n",
      "<a href=\"https://www.cophieu68.vn/export/dailymetastock.php?date=25-12-2022\" target=\"_blank\"><img alt=\"metastock data\" border=\"0\" src=\"https://www.cophieu68.vn/images/iconstock.gif\"/></a>\n",
      "<a href=\"https://www.cophieu68.vn/export/dailymetastock.php?date=25-12-2022\" target=\"_blank\"><strong>Export Metastock</strong></a>\n",
      "\t\t\t      \n",
      "\t\t\t<a href=\"https://www.cophieu68.vn/export/dailyexcel.php?date=25-12-2022\" target=\"_blank\"><img alt=\"excel data\" border=\"0\" src=\"https://www.cophieu68.vn/images/excel.jpg\"/></a>\n",
      "<a href=\"https://www.cophieu68.vn/export/dailyexcel.php?date=25-12-2022\" target=\"_blank\"><strong>Export Excel (Ami)</strong></a>\n",
      "</td>\n",
      "<td align=\"right\" width=\"290\">\n",
      "<form action=\"\" method=\"get\" name=\"frm\" style=\"margin:0\">\n",
      "<input name=\"submit\" style=\"width:0px; height:0px; border:0\" type=\"submit\" value=\"\"/>\n",
      "<table cellpadding=\"0\" cellspacing=\"0\" width=\"100\">\n",
      "<tr>\n",
      "<td>\n",
      "<select class=\"select\" name=\"stcid\">\n",
      "<option>Sàn...</option>\n",
      "<option selected=\"\" value=\"1\">HOSE</option>\n",
      "<option value=\"2\">HNX</option>\n",
      "<option value=\"3\">UPCOM</option>\n",
      "</select>\n",
      "</td>\n",
      "<td><script type=\"text/javascript\">DateInput('date', true, 'DD-MM-YYYY', '25-12-2022')</script></td>\n",
      "<td><input class=\"button2\" name=\"submit\" style=\"width:30px\" type=\"submit\" value=\"Go\"/></td>\n",
      "</tr>\n",
      "</table>\n",
      "</form>\n",
      "</td>\n",
      "</tr>\n",
      "</table>\n",
      "<p><strong style=\"font-size:14px; color:#0000FF\">Không có dữ liệu. Vui lòng chọn ngày khác.</strong></p>\n",
      "<script type=\"text/javascript\">f50InitTableHeader(\"fred\");</script>\n",
      "<div id=\"increase_mobile_auto\" style=\"width:100%; clear:both;\">\n",
      "<div class=\"increaserev mcm970x250\"></div>\n",
      "<script>ir_ads_push();</script>\n",
      "</div>\n",
      "</div><!-- end body 970-->\n",
      "<br/>\n",
      "<!--div style=\"text-align:center; margin:auto; width:100%\">\n",
      "<div class=\"fb-page\" data-href=\"https://www.facebook.com/cophieu68.group/\" data-tabs=\"timeline\" data-width=\"1000\" data-small-header=\"true\" data-adapt-container-width=\"true\" data-hide-cover=\"true\" data-show-facepile=\"false\"><blockquote cite=\"https://www.facebook.com/cophieu68.group/\" class=\"fb-xfbml-parse-ignore\"><a href=\"https://www.facebook.com/cophieu68.group/\">Cổ Phiếu 68</a></blockquote></div>\n",
      "</div-->\n",
      "<br/>\n",
      "<!-- begin footer 970-->\n",
      "<div id=\"bottom_top\" style=\"width:100%; clear:both; padding:5px 0;  background-color:#3e3e3f\">\n",
      "<div style=\"width:98%; text-align:center; margin:auto\">\n",
      "<div id=\"bottom_service\" style=\"width:100%; color:#ccc; padding:0 5px; text-align:left\">\n",
      "<div class=\"equal\" style=\"float:left; width:16%; margin-left:0px\">\n",
      "<ul class=\"style1\" style=\"padding-left:5px; font-size:11px\">\n",
      "<li><strong style=\"font-size:13px\"><a class=\"footer\" href=\"https://www.cophieu68.vn/index.php\">Thống Kê</a></strong></li>\n",
      "<li><a class=\"footer\" href=\"https://www.cophieu68.vn/advanced_statistic.php\">Thống Kê Nâng Cao</a></li>\n",
      "<li><a class=\"footer\" href=\"https://www.cophieu68.vn/finance_statistic.php\">Tăng Trưởng Tài Chính</a></li>\n",
      "<li><a class=\"footer\" href=\"https://www.cophieu68.vn/plan_income.php\">Kế Hoạch Kinh Doanh</a></li>\n",
      "<li><a class=\"footer\" href=\"https://www.cophieu68.vn/bookprice.php\">Giá Sổ Sách</a></li>\n",
      "<li><a class=\"footer\" href=\"https://www.cophieu68.vn/atbottom.php\">Đáy Cổ Phiếu</a></li>\n",
      "<li><a class=\"footer\" href=\"https://www.cophieu68.vn/signal_volume.php\">Đột Biến Khối Lượng</a></li>\n",
      "</ul>\n",
      "</div>\n",
      "<div class=\"equal\" style=\"float:left; width:16%; background-color:#444445; margin-left:5px\">\n",
      "<ul class=\"style1\" style=\"padding-left:5px; font-size:11px\">\n",
      "<li><strong style=\"font-size:13px\"><a class=\"footer\" href=\"https://www.cophieu68.vn/companylist.php\">Công Ty Niêm Yết</a></strong></li>\n",
      "<li><a class=\"footer\" href=\"https://www.cophieu68.vn/companylist.php\">Danh Sách Công Ty Niêm Yết</a></li>\n",
      "<li><a class=\"footer\" href=\"https://www.cophieu68.vn/companylist2.php\">Chỉ Số Tài Chính Cơ Bản</a></li>\n",
      "<li><a class=\"footer\" href=\"https://www.cophieu68.vn/companylist3.php\">Cơ Cấu Cổ Đông</a></li>\n",
      "<li><a class=\"footer\" href=\"https://www.cophieu68.vn/stockonline.php\">Bảng Giao Dịch Trực Tuyến</a></li>\n",
      "<li><a class=\"footer\" href=\"https://www.cophieu68.vn/stockdaily.php\">Dữ Liệu Hàng Ngày</a></li>\n",
      "<li><a class=\"footer\" href=\"https://www.cophieu68.vn//chartindex.php\">Biểu Đồ Thị Trường</a></li>\n",
      "</ul>\n",
      "</div>\n",
      "<div class=\"equal\" style=\"float:left; width:16%; background-color:#444445; margin-left:5px\">\n",
      "<ul class=\"style1\" style=\"padding-left:5px; font-size:11px\">\n",
      "<li><strong style=\"font-size:13px\"><a class=\"footer\" href=\"https://www.cophieu68.vn/categorylist.php\">Nhóm Ngành</a></strong></li>\n",
      "<li><a class=\"footer\" href=\"https://www.cophieu68.vn/categorylist.php\">Nhóm Ngành Và Các Chỉ Số Cơ Bản</a></li>\n",
      "<li><a class=\"footer\" href=\"https://www.cophieu68.vn/category_finance.php\">Tăng Trưởng Tài Chính Ngành</a></li>\n",
      "<li><a class=\"footer\" href=\"https://www.cophieu68.vn/category_ib2.php\">Báo Cáo Tài Chính Theo Nhóm Ngành</a></li>\n",
      "</ul>\n",
      "</div>\n",
      "<div class=\"equal\" style=\"float:left; width:16%; background-color:#444445; margin-left:5px\">\n",
      "<ul class=\"style1\" style=\"padding-left:5px; font-size:11px\">\n",
      "<li><strong style=\"font-size:13px\"><a class=\"footer\" href=\"https://www.cophieu68.vn/filter_index.php\">Bộ Lọc</a></strong></li>\n",
      "<li><a class=\"footer\" href=\"https://www.cophieu68.vn/filter_index.php\">Lọc Chỉ Số Tài Chính</a></li>\n",
      "<li><a class=\"footer\" href=\"https://www.cophieu68.vn/filter_stock.php\">Lọc Dựa Trên Mức Độ Quan Tâm</a></li>\n",
      "<li><a class=\"footer\" href=\"https://www.cophieu68.vn/filter_chart.php\">Lọc Tín Hiệu Biểu Đồ</a></li>\n",
      "<li><a class=\"footer\" href=\"https://www.cophieu68.vn/filter_reportchart.php\">Thống Kê Biểu Đồ</a></li>\n",
      "</ul>\n",
      "</div>\n",
      "<div class=\"equal\" style=\"float:left; width:16%; margin-left:5px\">\n",
      "<ul class=\"style1\" style=\"padding-left:5px; font-size:11px\">\n",
      "<li><strong style=\"font-size:13px\"><a class=\"footer\" href=\"https://www.cophieu68.vn/charts.php\">Biểu Đồ</a></strong></li>\n",
      "<li><a class=\"footer\" href=\"https://www.cophieu68.vn/charts.php\">Tín Hiệu Biểu Đồ</a></li>\n",
      "<li><a class=\"footer\" href=\"https://www.cophieu68.vn/chartprice.php\">Biểu Đồ Giá</a></li>\n",
      "<li><a class=\"footer\" href=\"https://www.cophieu68.vn/chartrsi.php\">Biểu Đồ RSI</a></li>\n",
      "<li><a class=\"footer\" href=\"https://www.cophieu68.vn/chartmacd.php\">Biểu Đồ MACD</a></li>\n",
      "<li><a class=\"footer\" href=\"https://www.cophieu68.vn/chartadx.php\">Biểu Đồ ADX</a></li>\n",
      "<li><a class=\"footer\" href=\"https://www.cophieu68.vn/chartcci.php\">Biểu Đồ CCI</a></li>\n",
      "<li><a class=\"footer\" href=\"https://www.cophieu68.vn/chartmfi.php\">Biểu Đồ MFI</a></li>\n",
      "<li><a class=\"footer\" href=\"https://www.cophieu68.vn/chartstochastic.php\">Biểu Đồ STOCHASTIC</a></li>\n",
      "<li><a class=\"footer\" href=\"https://www.cophieu68.vn/chartwilliam.php\">Biểu Đồ WILLIAM</a></li>\n",
      "</ul>\n",
      "</div>\n",
      "<div class=\"equal\" style=\"float:left; width:16%; margin-left:5px\">\n",
      "<ul class=\"style1\" style=\"padding-left:5px; font-size:11px\">\n",
      "<li><strong style=\"font-size:13px\">Dịch Vụ Cảnh Báo</strong></li>\n",
      "<li>Cảnh Báo Giá</li>\n",
      "<li>Cảnh Báo Biểu Đồ</li>\n",
      "<li>Cảnh Báo Đáy Cổ Phiếu</li>\n",
      "<li>Cảnh Báo Đột Biến Khối Lượng</li>\n",
      "<li>Cảnh Báo Trên Danh Mục</li>\n",
      "<li>Dịch Vụ Thông Báo Cơ Bản</li>\n",
      "<li>Dịch Vụ Thông báo Cổ Tức</li>\n",
      "</ul>\n",
      "</div>\n",
      "</div>\n",
      "</div>\n",
      "<div style=\"text-align:center; margin:auto; background-color:#343434\">\n",
      "<div style=\"width:100%; margin:auto\">\n",
      "<div style=\"float:left; width:700px; color:#666; font-size:11px; padding:5px; text-align:left \">\n",
      "\t\t\t\tDữ liệu thống kê, các chỉ số, biểu đồ... trên website cophieu68.com được tính toán tự động dựa trên báo cáo tài chính, lịch sự kiện và giá giao dịch hàng ngày.<br/>\n",
      "\t\t\t\tBiểu đồ được vẽ dựa trên số liệu đã điều chỉnh. Biểu đồ kỹ thuật trong giờ giao dịch được cập nhật 5 phút 1 lần.<br/>\n",
      "\t\t\t\tĐộ trễ dữ liệu trực tuyến 1-5 giây.<br/>\n",
      "\t\t\t\tDanh sách biểu đồ, thống kê biểu đồ, các chỉ số, bộ lọc được cập nhật liên tục 5 phút một lần.<br/>\n",
      "<br/>\n",
      "\t\t\t\tGiấy phép số: 43/GP-STTTT\n",
      "\t\t\t\t<br/>\n",
      "</div>\n",
      "<div style=\"float:right; ; padding:10px; padding-top:60px; color: #fff\">\n",
      "                            Tư vấn: <span style=\"color:#FF0000; font-size:18px\">0888.468.357</span> </div>\n",
      "<div style=\"clear:both\"></div>\n",
      "</div>\n",
      "</div>\n",
      "</div>\n",
      "<!--div style=\"position: fixed; right: 0; bottom: 0; z-index: 100000000000; background-color: #000; border: 1px solid #000; color: #FFF; padding: 4px\">Hỗ trợ Skype: <strong style=\"color: #ffff00\">COPHIEU.68</strong></div-->\n",
      "<!--div id=\"g_plusone\" DAA style=\"position:absolute; display:none;\"><div class=\"g-plusone\" data-size=\"large\" data-width=\"80\" data-href=\"https://www.cophieu68.vn/stockdaily.php\"></div></div-->\n",
      "<div class=\"fb-share-button\" data-href=\"/stockdaily.php\" data-layout=\"button\" data-mobile-iframe=\"true\" data-size=\"small\" id=\"g_plusone\" style=\"position:absolute; display:none;\"><a class=\"fb-xfbml-parse-ignore\" href=\"https://www.facebook.com/sharer/sharer.php?u=https%3A%2F%2Fdevelopers.facebook.com%2Fdocs%2Fplugins%2F&amp;src=sdkpreparse\" target=\"_blank\">Chia sẻ</a></div>\n",
      "</body>\n",
      "</html>\n",
      "<script type=\"text/javascript\">\n",
      "\n",
      "var s1 = $('h1');\n",
      "if( s1.length > 0 ){\n",
      "\tvar s2 = s1.position();\n",
      "\t$('#g_plusone').css({'top': (s2.top + s1.height() - 25) + 'px', 'left': (s2.left + 870) + 'px'});\n",
      "\t$('#g_plusone').show();\n",
      "\n",
      "\tvar g_plusone = document.getElementById('g_plusone');\n",
      "\twindow.___gcfg = {\n",
      "\t\tlang: 'vi'\n",
      "\t};\n",
      "\n",
      "\t(function() {\n",
      "\t\tvar po = document.createElement('script'); po.type = 'text/javascript'; po.async = true;\n",
      "\t\tpo.src = 'https://apis.google.com/js/plusone.js';\n",
      "\n",
      "\t\tvar s = document.getElementsByTagName('script')[0];\n",
      "\t\ts.parentNode.insertBefore(po, s);\n",
      "\t})();\n",
      "}\n",
      "</script>\n",
      "<!--Start of Tawk.to Script-->\n",
      "<!--script type=\"text/javascript\">\n",
      "var Tawk_API=Tawk_API||{}, Tawk_LoadStart=new Date();\n",
      "(function(){\n",
      "var s1=document.createElement(\"script\"),s0=document.getElementsByTagName(\"script\")[0];\n",
      "s1.async=true;\n",
      "s1.src='https://embed.tawk.to/586b44b0f81f1673b6482405/default';\n",
      "s1.charset='UTF-8';\n",
      "s1.setAttribute('crossorigin','*');\n",
      "s0.parentNode.insertBefore(s1,s0);\n",
      "})();\n",
      "</script-->\n",
      "<!--End of Tawk.to Script-->\n",
      "\n"
     ]
    }
   ],
   "source": [
    "import requests as rq\n",
    "from bs4 import BeautifulSoup\n",
    "respon = rq.get('https://www.cophieu68.vn/stockdaily.php')\n",
    "print (respon)\n",
    "\n",
    "\n",
    "\n",
    "soup = BeautifulSoup(respon.content, \"html.parser\")\n",
    "\n",
    "print(soup)"
   ]
  }
 ],
 "metadata": {
  "kernelspec": {
   "display_name": "Python 3",
   "language": "python",
   "name": "python3"
  },
  "language_info": {
   "codemirror_mode": {
    "name": "ipython",
    "version": 3
   },
   "file_extension": ".py",
   "mimetype": "text/x-python",
   "name": "python",
   "nbconvert_exporter": "python",
   "pygments_lexer": "ipython3",
   "version": "3.10.8"
  },
  "orig_nbformat": 4,
  "vscode": {
   "interpreter": {
    "hash": "242d945ec48666891d95bc2a1937bf4a73f394e8bc0f31fd120deb0369fbdbfc"
   }
  }
 },
 "nbformat": 4,
 "nbformat_minor": 2
}
